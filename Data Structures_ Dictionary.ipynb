{
 "cells": [
  {
   "cell_type": "code",
   "execution_count": 0,
   "metadata": {
    "application/vnd.databricks.v1+cell": {
     "cellMetadata": {
      "byteLimit": 2048000,
      "rowLimit": 10000
     },
     "inputWidgets": {},
     "nuid": "9244412e-3adb-429c-aa4f-c4f893f96629",
     "showTitle": false,
     "tableResultSettingsMap": {},
     "title": ""
    }
   },
   "outputs": [],
   "source": [
    "d={\"name\":\"kirat\"}"
   ]
  },
  {
   "cell_type": "code",
   "execution_count": 0,
   "metadata": {
    "application/vnd.databricks.v1+cell": {
     "cellMetadata": {
      "byteLimit": 2048000,
      "rowLimit": 10000
     },
     "inputWidgets": {},
     "nuid": "4fcc89f8-e663-4fb2-b292-5a84b3b99c42",
     "showTitle": false,
     "tableResultSettingsMap": {},
     "title": ""
    }
   },
   "outputs": [
    {
     "output_type": "stream",
     "name": "stdout",
     "output_type": "stream",
     "text": [
      "Out[2]: dict"
     ]
    }
   ],
   "source": [
    "type(d)"
   ]
  },
  {
   "cell_type": "code",
   "execution_count": 0,
   "metadata": {
    "application/vnd.databricks.v1+cell": {
     "cellMetadata": {
      "byteLimit": 2048000,
      "rowLimit": 10000
     },
     "inputWidgets": {},
     "nuid": "5e0e2b95-4fbb-4e41-800f-f52349cf246a",
     "showTitle": false,
     "tableResultSettingsMap": {},
     "title": ""
    }
   },
   "outputs": [],
   "source": [
    "d={\"name\":\"kirat\", \"name\":\"harkirat\"}\n",
    "# latest value is over written\n",
    "# because keys are always unique\n",
    "# JAise list m indexes hote h,waise dict m keys hoti h. \n",
    "# list m index by default hota h, dict m key deti hoti h"
   ]
  },
  {
   "cell_type": "code",
   "execution_count": 0,
   "metadata": {
    "application/vnd.databricks.v1+cell": {
     "cellMetadata": {
      "byteLimit": 2048000,
      "rowLimit": 10000
     },
     "inputWidgets": {},
     "nuid": "d8cd4867-0d34-4382-bdd5-8f720f0b60d3",
     "showTitle": false,
     "tableResultSettingsMap": {},
     "title": ""
    }
   },
   "outputs": [
    {
     "output_type": "stream",
     "name": "stdout",
     "output_type": "stream",
     "text": [
      "Out[4]: {'name': 'harkirat'}"
     ]
    }
   ],
   "source": [
    "d"
   ]
  },
  {
   "cell_type": "code",
   "execution_count": 0,
   "metadata": {
    "application/vnd.databricks.v1+cell": {
     "cellMetadata": {
      "byteLimit": 2048000,
      "rowLimit": 10000
     },
     "inputWidgets": {},
     "nuid": "e6f89225-4271-451e-a1ce-f66818892c01",
     "showTitle": false,
     "tableResultSettingsMap": {},
     "title": ""
    }
   },
   "outputs": [],
   "source": [
    "d = {\"id\":7, \"name\":\"kirat\",\"company\":\"fractal\",\"hands\":2, \"legs\":2}"
   ]
  },
  {
   "cell_type": "code",
   "execution_count": 0,
   "metadata": {
    "application/vnd.databricks.v1+cell": {
     "cellMetadata": {
      "byteLimit": 2048000,
      "rowLimit": 10000
     },
     "inputWidgets": {},
     "nuid": "50148f64-66ba-4835-b192-93ea3b607b5a",
     "showTitle": false,
     "tableResultSettingsMap": {},
     "title": ""
    }
   },
   "outputs": [
    {
     "output_type": "stream",
     "name": "stdout",
     "output_type": "stream",
     "text": [
      "Out[6]: {'id': 7, 'name': 'kirat', 'company': 'fractal', 'hands': 2, 'legs': 2}"
     ]
    }
   ],
   "source": [
    "d"
   ]
  },
  {
   "cell_type": "code",
   "execution_count": 0,
   "metadata": {
    "application/vnd.databricks.v1+cell": {
     "cellMetadata": {
      "byteLimit": 2048000,
      "rowLimit": 10000
     },
     "inputWidgets": {},
     "nuid": "a0f22389-523b-420d-9880-53a8b8470c67",
     "showTitle": false,
     "tableResultSettingsMap": {},
     "title": ""
    }
   },
   "outputs": [
    {
     "output_type": "stream",
     "name": "stdout",
     "output_type": "stream",
     "text": [
      "Out[16]: 2"
     ]
    }
   ],
   "source": [
    "d[\"hands\"]\n",
    "#JAise hum list m index de kr data extract krte h waise hi list m key de kr data extract kr sakte ho"
   ]
  },
  {
   "cell_type": "code",
   "execution_count": 0,
   "metadata": {
    "application/vnd.databricks.v1+cell": {
     "cellMetadata": {
      "byteLimit": 2048000,
      "rowLimit": 10000
     },
     "inputWidgets": {},
     "nuid": "438f950b-6aee-450b-87d0-2404a719b132",
     "showTitle": false,
     "tableResultSettingsMap": {},
     "title": ""
    }
   },
   "outputs": [
    {
     "output_type": "stream",
     "name": "stdout",
     "output_type": "stream",
     "text": [
      "Out[17]: 'a'"
     ]
    }
   ],
   "source": [
    "d[\"name\"][3]"
   ]
  },
  {
   "cell_type": "code",
   "execution_count": 0,
   "metadata": {
    "application/vnd.databricks.v1+cell": {
     "cellMetadata": {
      "byteLimit": 2048000,
      "rowLimit": 10000
     },
     "inputWidgets": {},
     "nuid": "0915ecba-8188-4176-8cc0-2f21d367e900",
     "showTitle": false,
     "tableResultSettingsMap": {},
     "title": ""
    }
   },
   "outputs": [],
   "source": [
    "d1 = {\"id\":1, \"name\" :[\"matko\",\"harkirat\"]}"
   ]
  },
  {
   "cell_type": "code",
   "execution_count": 0,
   "metadata": {
    "application/vnd.databricks.v1+cell": {
     "cellMetadata": {
      "byteLimit": 2048000,
      "rowLimit": 10000
     },
     "inputWidgets": {},
     "nuid": "2b589c6e-5598-4ad4-8f25-091267a917be",
     "showTitle": false,
     "tableResultSettingsMap": {},
     "title": ""
    }
   },
   "outputs": [
    {
     "output_type": "stream",
     "name": "stdout",
     "output_type": "stream",
     "text": [
      "Out[13]: {'id': 1, 'name': ['matko', 'harkirat']}"
     ]
    }
   ],
   "source": [
    "d1"
   ]
  },
  {
   "cell_type": "code",
   "execution_count": 0,
   "metadata": {
    "application/vnd.databricks.v1+cell": {
     "cellMetadata": {
      "byteLimit": 2048000,
      "rowLimit": 10000
     },
     "inputWidgets": {},
     "nuid": "163c0209-46a2-48b0-8da7-600385774900",
     "showTitle": false,
     "tableResultSettingsMap": {},
     "title": ""
    }
   },
   "outputs": [
    {
     "output_type": "stream",
     "name": "stdout",
     "output_type": "stream",
     "text": [
      "Out[20]: 'matko'"
     ]
    }
   ],
   "source": [
    "d1[\"name\"][0]"
   ]
  },
  {
   "cell_type": "code",
   "execution_count": 0,
   "metadata": {
    "application/vnd.databricks.v1+cell": {
     "cellMetadata": {
      "byteLimit": 2048000,
      "rowLimit": 10000
     },
     "inputWidgets": {},
     "nuid": "37ff93c2-63f4-42f7-a554-7c3f6bee6c2f",
     "showTitle": false,
     "tableResultSettingsMap": {},
     "title": ""
    }
   },
   "outputs": [],
   "source": [
    "d2 = {\"id\":1, \"name\" :(\"matko\",\"harkirat\")}"
   ]
  },
  {
   "cell_type": "code",
   "execution_count": 0,
   "metadata": {
    "application/vnd.databricks.v1+cell": {
     "cellMetadata": {
      "byteLimit": 2048000,
      "rowLimit": 10000
     },
     "inputWidgets": {},
     "nuid": "8a6ea6ae-a19f-4123-950f-7ed999e15ea0",
     "showTitle": false,
     "tableResultSettingsMap": {},
     "title": ""
    }
   },
   "outputs": [
    {
     "output_type": "stream",
     "name": "stdout",
     "output_type": "stream",
     "text": [
      "Out[15]: {'id': 1, 'name': ('matko', 'harkirat')}"
     ]
    }
   ],
   "source": [
    "d2"
   ]
  },
  {
   "cell_type": "code",
   "execution_count": 0,
   "metadata": {
    "application/vnd.databricks.v1+cell": {
     "cellMetadata": {
      "byteLimit": 2048000,
      "rowLimit": 10000
     },
     "inputWidgets": {},
     "nuid": "85f27e4d-13c3-4342-afb1-0a92ea58a35f",
     "showTitle": false,
     "tableResultSettingsMap": {},
     "title": ""
    }
   },
   "outputs": [],
   "source": [
    "d3={ 1:'a',2:9}"
   ]
  },
  {
   "cell_type": "code",
   "execution_count": 0,
   "metadata": {
    "application/vnd.databricks.v1+cell": {
     "cellMetadata": {
      "byteLimit": 2048000,
      "rowLimit": 10000
     },
     "inputWidgets": {},
     "nuid": "7bea21fb-38bd-4f4f-bd41-b44b24a2293d",
     "showTitle": false,
     "tableResultSettingsMap": {},
     "title": ""
    }
   },
   "outputs": [
    {
     "output_type": "stream",
     "name": "stdout",
     "output_type": "stream",
     "text": [
      "Out[22]: {1: 'a', 2: 9}"
     ]
    }
   ],
   "source": [
    "d3"
   ]
  },
  {
   "cell_type": "code",
   "execution_count": 0,
   "metadata": {
    "application/vnd.databricks.v1+cell": {
     "cellMetadata": {
      "byteLimit": 2048000,
      "rowLimit": 10000
     },
     "inputWidgets": {},
     "nuid": "d8d6a019-b48c-4cb4-b4bc-b41df19516cc",
     "showTitle": false,
     "tableResultSettingsMap": {},
     "title": ""
    }
   },
   "outputs": [
    {
     "output_type": "display_data",
     "data": {
      "text/plain": [
       "\u001B[0;31m---------------------------------------------------------------------------\u001B[0m\n",
       "\u001B[0;31mNameError\u001B[0m                                 Traceback (most recent call last)\n",
       "File \u001B[0;32m<command-4267694206614333>:1\u001B[0m\n",
       "\u001B[0;32m----> 1\u001B[0m d4\u001B[38;5;241m=\u001B[39m{ \u001B[43m_a\u001B[49m:\u001B[38;5;124m'\u001B[39m\u001B[38;5;124ma\u001B[39m\u001B[38;5;124m'\u001B[39m,\u001B[38;5;241m2\u001B[39m:\u001B[38;5;241m9\u001B[39m}\n",
       "\n",
       "\u001B[0;31mNameError\u001B[0m: name '_a' is not defined"
      ]
     },
     "metadata": {
      "application/vnd.databricks.v1+output": {
       "arguments": {},
       "data": "\u001B[0;31m---------------------------------------------------------------------------\u001B[0m\n\u001B[0;31mNameError\u001B[0m                                 Traceback (most recent call last)\nFile \u001B[0;32m<command-4267694206614333>:1\u001B[0m\n\u001B[0;32m----> 1\u001B[0m d4\u001B[38;5;241m=\u001B[39m{ \u001B[43m_a\u001B[49m:\u001B[38;5;124m'\u001B[39m\u001B[38;5;124ma\u001B[39m\u001B[38;5;124m'\u001B[39m,\u001B[38;5;241m2\u001B[39m:\u001B[38;5;241m9\u001B[39m}\n\n\u001B[0;31mNameError\u001B[0m: name '_a' is not defined",
       "errorSummary": "<span class='ansi-red-fg'>NameError</span>: name '_a' is not defined",
       "errorTraceType": "ansi",
       "metadata": {},
       "type": "ipynbError"
      }
     },
     "output_type": "display_data"
    }
   ],
   "source": [
    "d4={ _a:'a',2:9}\n",
    "# key name cannot start with spl character\n",
    "# NameError: name '_a' is not defined"
   ]
  },
  {
   "cell_type": "code",
   "execution_count": 0,
   "metadata": {
    "application/vnd.databricks.v1+cell": {
     "cellMetadata": {
      "byteLimit": 2048000,
      "rowLimit": 10000
     },
     "inputWidgets": {},
     "nuid": "d9b6d867-13d2-4baa-b1bf-dde52cbe1db4",
     "showTitle": false,
     "tableResultSettingsMap": {},
     "title": ""
    }
   },
   "outputs": [
    {
     "output_type": "display_data",
     "data": {
      "text/plain": [
       "\u001B[0;31m---------------------------------------------------------------------------\u001B[0m\n",
       "\u001B[0;31mTypeError\u001B[0m                                 Traceback (most recent call last)\n",
       "File \u001B[0;32m<command-4267694206614334>:1\u001B[0m\n",
       "\u001B[0;32m----> 1\u001B[0m d5\u001B[38;5;241m=\u001B[39m{[\u001B[38;5;241m1\u001B[39m,\u001B[38;5;241m2\u001B[39m]:\u001B[38;5;241m4\u001B[39m}\n",
       "\n",
       "\u001B[0;31mTypeError\u001B[0m: unhashable type: 'list'"
      ]
     },
     "metadata": {
      "application/vnd.databricks.v1+output": {
       "arguments": {},
       "data": "\u001B[0;31m---------------------------------------------------------------------------\u001B[0m\n\u001B[0;31mTypeError\u001B[0m                                 Traceback (most recent call last)\nFile \u001B[0;32m<command-4267694206614334>:1\u001B[0m\n\u001B[0;32m----> 1\u001B[0m d5\u001B[38;5;241m=\u001B[39m{[\u001B[38;5;241m1\u001B[39m,\u001B[38;5;241m2\u001B[39m]:\u001B[38;5;241m4\u001B[39m}\n\n\u001B[0;31mTypeError\u001B[0m: unhashable type: 'list'",
       "errorSummary": "<span class='ansi-red-fg'>TypeError</span>: unhashable type: 'list'",
       "errorTraceType": "ansi",
       "metadata": {},
       "type": "ipynbError"
      }
     },
     "output_type": "display_data"
    }
   ],
   "source": [
    "d5={[1,2]:4}\n",
    "# key is immutable. and list is mutable hence list cannot be a key"
   ]
  },
  {
   "cell_type": "code",
   "execution_count": 0,
   "metadata": {
    "application/vnd.databricks.v1+cell": {
     "cellMetadata": {
      "byteLimit": 2048000,
      "rowLimit": 10000
     },
     "inputWidgets": {},
     "nuid": "10a982a0-5e22-4edd-a643-672b4d162c6c",
     "showTitle": false,
     "tableResultSettingsMap": {},
     "title": ""
    }
   },
   "outputs": [
    {
     "output_type": "stream",
     "name": "stdout",
     "output_type": "stream",
     "text": [
      "Out[28]: {(1, 2): 4}"
     ]
    }
   ],
   "source": [
    "d6={(1,2):4}\n",
    "d6\n",
    "# key is immutable. and tuple is also mutable hence tuple can be a key"
   ]
  },
  {
   "cell_type": "code",
   "execution_count": 0,
   "metadata": {
    "application/vnd.databricks.v1+cell": {
     "cellMetadata": {
      "byteLimit": 2048000,
      "rowLimit": 10000
     },
     "inputWidgets": {},
     "nuid": "bd76fa18-5053-47e9-9253-fb927bfdd5f4",
     "showTitle": false,
     "tableResultSettingsMap": {},
     "title": ""
    }
   },
   "outputs": [
    {
     "output_type": "display_data",
     "data": {
      "text/plain": [
       "\u001B[0;31m---------------------------------------------------------------------------\u001B[0m\n",
       "\u001B[0;31mTypeError\u001B[0m                                 Traceback (most recent call last)\n",
       "File \u001B[0;32m<command-4267694206614336>:1\u001B[0m\n",
       "\u001B[0;32m----> 1\u001B[0m d5\u001B[38;5;241m=\u001B[39m{{\u001B[38;5;241m1\u001B[39m,\u001B[38;5;241m2\u001B[39m}:\u001B[38;5;241m4\u001B[39m}\n",
       "\n",
       "\u001B[0;31mTypeError\u001B[0m: unhashable type: 'set'"
      ]
     },
     "metadata": {
      "application/vnd.databricks.v1+output": {
       "arguments": {},
       "data": "\u001B[0;31m---------------------------------------------------------------------------\u001B[0m\n\u001B[0;31mTypeError\u001B[0m                                 Traceback (most recent call last)\nFile \u001B[0;32m<command-4267694206614336>:1\u001B[0m\n\u001B[0;32m----> 1\u001B[0m d5\u001B[38;5;241m=\u001B[39m{{\u001B[38;5;241m1\u001B[39m,\u001B[38;5;241m2\u001B[39m}:\u001B[38;5;241m4\u001B[39m}\n\n\u001B[0;31mTypeError\u001B[0m: unhashable type: 'set'",
       "errorSummary": "<span class='ansi-red-fg'>TypeError</span>: unhashable type: 'set'",
       "errorTraceType": "ansi",
       "metadata": {},
       "type": "ipynbError"
      }
     },
     "output_type": "display_data"
    }
   ],
   "source": [
    "d5={{1,2}:4}\n",
    "# sets don't have a index defined and are mutable hence cannot be kept as a key\n",
    "# TypeError: unhashable type: 'set'"
   ]
  },
  {
   "cell_type": "code",
   "execution_count": 0,
   "metadata": {
    "application/vnd.databricks.v1+cell": {
     "cellMetadata": {
      "byteLimit": 2048000,
      "rowLimit": 10000
     },
     "inputWidgets": {},
     "nuid": "fb10e5aa-4ef7-4aa5-946d-f78143c6ff77",
     "showTitle": false,
     "tableResultSettingsMap": {},
     "title": ""
    }
   },
   "outputs": [],
   "source": [
    "d7= {True:'i',False:'u'}"
   ]
  },
  {
   "cell_type": "code",
   "execution_count": 0,
   "metadata": {
    "application/vnd.databricks.v1+cell": {
     "cellMetadata": {
      "byteLimit": 2048000,
      "rowLimit": 10000
     },
     "inputWidgets": {},
     "nuid": "2f872212-d037-4020-a5f8-8bab665062fa",
     "showTitle": false,
     "tableResultSettingsMap": {},
     "title": ""
    }
   },
   "outputs": [
    {
     "output_type": "stream",
     "name": "stdout",
     "output_type": "stream",
     "text": [
      "Out[33]: {True: 'i', False: 'u'}"
     ]
    }
   ],
   "source": [
    "d7"
   ]
  },
  {
   "cell_type": "code",
   "execution_count": 0,
   "metadata": {
    "application/vnd.databricks.v1+cell": {
     "cellMetadata": {
      "byteLimit": 2048000,
      "rowLimit": 10000
     },
     "inputWidgets": {},
     "nuid": "d39f5f71-0170-4053-aa8b-a64fe7ae07cb",
     "showTitle": false,
     "tableResultSettingsMap": {},
     "title": ""
    }
   },
   "outputs": [],
   "source": [
    "d8 = {\"id\":7, \"name\":\"kirat\",\"company\":\"fractal\",\"hands\":2, \"legs\":2, \"random_set\":{2,3,4,5,2,3,4,5,3,4,5,3}, \"random_list\":['o','p','q'],\"random_tuple\":('o','p','q'), \"work_history\":{\"sopra steria\":'2018-2022',\"fractal analyitcs\":\"2022-2025\", \"product-based\":\"2025'\"}}\n",
    "#set se sirk unique values hi pick hue h"
   ]
  },
  {
   "cell_type": "code",
   "execution_count": 0,
   "metadata": {
    "application/vnd.databricks.v1+cell": {
     "cellMetadata": {
      "byteLimit": 2048000,
      "rowLimit": 10000
     },
     "inputWidgets": {},
     "nuid": "717d92db-9974-48a6-9ae9-d63b7d3faa4c",
     "showTitle": false,
     "tableResultSettingsMap": {},
     "title": ""
    }
   },
   "outputs": [
    {
     "output_type": "stream",
     "name": "stdout",
     "output_type": "stream",
     "text": [
      "Out[41]: {'id': 7,\n 'name': 'kirat',\n 'company': 'fractal',\n 'hands': 2,\n 'legs': 2,\n 'random_set': {2, 3, 4, 5},\n 'random_list': ['o', 'p', 'q'],\n 'random_tuple': ('o', 'p', 'q'),\n 'work_history': {'sopra steria': '2018-2022',\n  'fractal analyitcs': '2022-2025',\n  'product-based': \"2025'\"}}"
     ]
    }
   ],
   "source": [
    "d8"
   ]
  },
  {
   "cell_type": "code",
   "execution_count": 0,
   "metadata": {
    "application/vnd.databricks.v1+cell": {
     "cellMetadata": {
      "byteLimit": 2048000,
      "rowLimit": 10000
     },
     "inputWidgets": {},
     "nuid": "cc16f2ad-5524-4339-82f0-ec369d942815",
     "showTitle": false,
     "tableResultSettingsMap": {},
     "title": ""
    }
   },
   "outputs": [
    {
     "output_type": "stream",
     "name": "stdout",
     "output_type": "stream",
     "text": [
      "Out[42]: dict"
     ]
    }
   ],
   "source": [
    "type(d8)"
   ]
  },
  {
   "cell_type": "code",
   "execution_count": 0,
   "metadata": {
    "application/vnd.databricks.v1+cell": {
     "cellMetadata": {
      "byteLimit": 2048000,
      "rowLimit": 10000
     },
     "inputWidgets": {},
     "nuid": "84bd6d88-37c1-4cb2-8a4d-d723b1c63690",
     "showTitle": false,
     "tableResultSettingsMap": {},
     "title": ""
    }
   },
   "outputs": [
    {
     "output_type": "stream",
     "name": "stdout",
     "output_type": "stream",
     "text": [
      "Out[43]: dict"
     ]
    }
   ],
   "source": [
    "type(d8[\"work_history\"])"
   ]
  },
  {
   "cell_type": "code",
   "execution_count": 0,
   "metadata": {
    "application/vnd.databricks.v1+cell": {
     "cellMetadata": {
      "byteLimit": 2048000,
      "rowLimit": 10000
     },
     "inputWidgets": {},
     "nuid": "3fb3f69b-1893-4f46-b1e3-674461594ed2",
     "showTitle": false,
     "tableResultSettingsMap": {},
     "title": ""
    }
   },
   "outputs": [
    {
     "output_type": "stream",
     "name": "stdout",
     "output_type": "stream",
     "text": [
      "Out[44]: '2018-2022'"
     ]
    }
   ],
   "source": [
    "d8[\"work_history\"][\"sopra steria\"]"
   ]
  },
  {
   "cell_type": "code",
   "execution_count": 0,
   "metadata": {
    "application/vnd.databricks.v1+cell": {
     "cellMetadata": {
      "byteLimit": 2048000,
      "rowLimit": 10000
     },
     "inputWidgets": {},
     "nuid": "12aa86d8-a526-4d8e-a288-822b7fc0ee14",
     "showTitle": false,
     "tableResultSettingsMap": {},
     "title": ""
    }
   },
   "outputs": [],
   "source": [
    "# Add new value to dictionary\n",
    "d8[\"looks forward to\"]=[\"weekly dates\", \"gurdware\"]"
   ]
  },
  {
   "cell_type": "code",
   "execution_count": 0,
   "metadata": {
    "application/vnd.databricks.v1+cell": {
     "cellMetadata": {
      "byteLimit": 2048000,
      "rowLimit": 10000
     },
     "inputWidgets": {},
     "nuid": "e8c62a41-03a2-4e30-ab6e-254cfca8a590",
     "showTitle": false,
     "tableResultSettingsMap": {},
     "title": ""
    }
   },
   "outputs": [
    {
     "output_type": "stream",
     "name": "stdout",
     "output_type": "stream",
     "text": [
      "Out[46]: {'id': 7,\n 'name': 'kirat',\n 'company': 'fractal',\n 'hands': 2,\n 'legs': 2,\n 'random_set': {2, 3, 4, 5},\n 'random_list': ['o', 'p', 'q'],\n 'random_tuple': ('o', 'p', 'q'),\n 'work_history': {'sopra steria': '2018-2022',\n  'fractal analyitcs': '2022-2025',\n  'product-based': \"2025'\"},\n 'looks forward to': ['weekly dates', 'gurdware']}"
     ]
    }
   ],
   "source": [
    "d8"
   ]
  },
  {
   "cell_type": "code",
   "execution_count": 0,
   "metadata": {
    "application/vnd.databricks.v1+cell": {
     "cellMetadata": {
      "byteLimit": 2048000,
      "rowLimit": 10000
     },
     "inputWidgets": {},
     "nuid": "0726f8b6-4d2f-481f-a340-210faf112313",
     "showTitle": false,
     "tableResultSettingsMap": {},
     "title": ""
    }
   },
   "outputs": [],
   "source": [
    "#update value\n",
    "d8['name']='harkirat'\n",
    "\n",
    "#add and update ka syntax same h, agar exist krta h to update krdega. agar present nhi h to add kr dega"
   ]
  },
  {
   "cell_type": "code",
   "execution_count": 0,
   "metadata": {
    "application/vnd.databricks.v1+cell": {
     "cellMetadata": {
      "byteLimit": 2048000,
      "rowLimit": 10000
     },
     "inputWidgets": {},
     "nuid": "97b07205-77ba-48e4-9116-ec6d94ec9747",
     "showTitle": false,
     "tableResultSettingsMap": {},
     "title": ""
    }
   },
   "outputs": [
    {
     "output_type": "stream",
     "name": "stdout",
     "output_type": "stream",
     "text": [
      "Out[48]: {'id': 7,\n 'name': 'harkirat',\n 'company': 'fractal',\n 'hands': 2,\n 'legs': 2,\n 'random_set': {2, 3, 4, 5},\n 'random_list': ['o', 'p', 'q'],\n 'random_tuple': ('o', 'p', 'q'),\n 'work_history': {'sopra steria': '2018-2022',\n  'fractal analyitcs': '2022-2025',\n  'product-based': \"2025'\"},\n 'looks forward to': ['weekly dates', 'gurdware']}"
     ]
    }
   ],
   "source": [
    "d8"
   ]
  },
  {
   "cell_type": "code",
   "execution_count": 0,
   "metadata": {
    "application/vnd.databricks.v1+cell": {
     "cellMetadata": {
      "byteLimit": 2048000,
      "rowLimit": 10000
     },
     "inputWidgets": {},
     "nuid": "9b78b19f-0d28-49f4-ad98-d9e7cf2e363e",
     "showTitle": false,
     "tableResultSettingsMap": {},
     "title": ""
    }
   },
   "outputs": [],
   "source": [
    "# delete a single key\n",
    "del d8[\"random_set\"]"
   ]
  },
  {
   "cell_type": "code",
   "execution_count": 0,
   "metadata": {
    "application/vnd.databricks.v1+cell": {
     "cellMetadata": {
      "byteLimit": 2048000,
      "rowLimit": 10000
     },
     "inputWidgets": {},
     "nuid": "7265ce60-0085-4743-8037-217816979fe6",
     "showTitle": false,
     "tableResultSettingsMap": {},
     "title": ""
    }
   },
   "outputs": [
    {
     "output_type": "stream",
     "name": "stdout",
     "output_type": "stream",
     "text": [
      "Out[52]: {'id': 7,\n 'name': 'harkirat',\n 'company': 'fractal',\n 'hands': 2,\n 'legs': 2,\n 'random_list': ['o', 'p', 'q'],\n 'random_tuple': ('o', 'p', 'q'),\n 'work_history': {'sopra steria': '2018-2022',\n  'fractal analyitcs': '2022-2025',\n  'product-based': \"2025'\"},\n 'looks forward to': ['weekly dates', 'gurdware']}"
     ]
    }
   ],
   "source": [
    "d8"
   ]
  },
  {
   "cell_type": "code",
   "execution_count": 0,
   "metadata": {
    "application/vnd.databricks.v1+cell": {
     "cellMetadata": {
      "byteLimit": 2048000,
      "rowLimit": 10000
     },
     "inputWidgets": {},
     "nuid": "6a4a80c4-6136-4b38-9c26-62ed231c875a",
     "showTitle": false,
     "tableResultSettingsMap": {},
     "title": ""
    }
   },
   "outputs": [
    {
     "output_type": "display_data",
     "data": {
      "text/plain": [
       "\u001B[0;31m---------------------------------------------------------------------------\u001B[0m\n",
       "\u001B[0;31mTypeError\u001B[0m                                 Traceback (most recent call last)\n",
       "File \u001B[0;32m<command-4267694206614350>:1\u001B[0m\n",
       "\u001B[0;32m----> 1\u001B[0m \u001B[38;5;241;43m2\u001B[39;49m\u001B[43m \u001B[49m\u001B[38;5;129;43;01min\u001B[39;49;00m\u001B[43m \u001B[49m\u001B[43md8\u001B[49m\u001B[43m[\u001B[49m\u001B[38;5;124;43m\"\u001B[39;49m\u001B[38;5;124;43mhands\u001B[39;49m\u001B[38;5;124;43m\"\u001B[39;49m\u001B[43m]\u001B[49m\n",
       "\n",
       "\u001B[0;31mTypeError\u001B[0m: argument of type 'int' is not iterable"
      ]
     },
     "metadata": {
      "application/vnd.databricks.v1+output": {
       "arguments": {},
       "data": "\u001B[0;31m---------------------------------------------------------------------------\u001B[0m\n\u001B[0;31mTypeError\u001B[0m                                 Traceback (most recent call last)\nFile \u001B[0;32m<command-4267694206614350>:1\u001B[0m\n\u001B[0;32m----> 1\u001B[0m \u001B[38;5;241;43m2\u001B[39;49m\u001B[43m \u001B[49m\u001B[38;5;129;43;01min\u001B[39;49;00m\u001B[43m \u001B[49m\u001B[43md8\u001B[49m\u001B[43m[\u001B[49m\u001B[38;5;124;43m\"\u001B[39;49m\u001B[38;5;124;43mhands\u001B[39;49m\u001B[38;5;124;43m\"\u001B[39;49m\u001B[43m]\u001B[49m\n\n\u001B[0;31mTypeError\u001B[0m: argument of type 'int' is not iterable",
       "errorSummary": "<span class='ansi-red-fg'>TypeError</span>: argument of type 'int' is not iterable",
       "errorTraceType": "ansi",
       "metadata": {},
       "type": "ipynbError"
      }
     },
     "output_type": "display_data"
    }
   ],
   "source": [
    "'2' in d8[\"hands\"]\n",
    "# Gives error because this checks if value is present in any iterable: list/tuple etc\n",
    "# TypeError: argument of type 'int' is not iterable\n"
   ]
  },
  {
   "cell_type": "code",
   "execution_count": 0,
   "metadata": {
    "application/vnd.databricks.v1+cell": {
     "cellMetadata": {
      "byteLimit": 2048000,
      "rowLimit": 10000
     },
     "inputWidgets": {},
     "nuid": "67683906-0f2e-46f5-babb-df68612fd2f4",
     "showTitle": false,
     "tableResultSettingsMap": {},
     "title": ""
    }
   },
   "outputs": [
    {
     "output_type": "stream",
     "name": "stdout",
     "output_type": "stream",
     "text": [
      "Out[58]: True"
     ]
    }
   ],
   "source": [
    "'o' in d8[\"random_list\"]"
   ]
  },
  {
   "cell_type": "code",
   "execution_count": 0,
   "metadata": {
    "application/vnd.databricks.v1+cell": {
     "cellMetadata": {
      "byteLimit": 2048000,
      "rowLimit": 10000
     },
     "inputWidgets": {},
     "nuid": "e8bc7bc6-dfda-4460-b207-1281534e0644",
     "showTitle": false,
     "tableResultSettingsMap": {},
     "title": ""
    }
   },
   "outputs": [
    {
     "output_type": "stream",
     "name": "stdout",
     "output_type": "stream",
     "text": [
      "Out[60]: dict_keys(['id', 'name', 'company', 'hands', 'legs', 'random_list', 'random_tuple', 'work_history', 'looks forward to'])"
     ]
    }
   ],
   "source": [
    "# extract all keys\n",
    "d8.keys()"
   ]
  },
  {
   "cell_type": "code",
   "execution_count": 0,
   "metadata": {
    "application/vnd.databricks.v1+cell": {
     "cellMetadata": {
      "byteLimit": 2048000,
      "rowLimit": 10000
     },
     "inputWidgets": {},
     "nuid": "b405e4e3-0ac7-4e5f-b32f-e86c2a953e00",
     "showTitle": false,
     "tableResultSettingsMap": {},
     "title": ""
    }
   },
   "outputs": [
    {
     "output_type": "stream",
     "name": "stdout",
     "output_type": "stream",
     "text": [
      "Out[61]: ['id',\n 'name',\n 'company',\n 'hands',\n 'legs',\n 'random_list',\n 'random_tuple',\n 'work_history',\n 'looks forward to']"
     ]
    }
   ],
   "source": [
    "list(d8.keys())"
   ]
  },
  {
   "cell_type": "code",
   "execution_count": 0,
   "metadata": {
    "application/vnd.databricks.v1+cell": {
     "cellMetadata": {
      "byteLimit": 2048000,
      "rowLimit": 10000
     },
     "inputWidgets": {},
     "nuid": "4eeb17a9-de11-4003-9c5b-4a55936152ee",
     "showTitle": false,
     "tableResultSettingsMap": {},
     "title": ""
    }
   },
   "outputs": [
    {
     "output_type": "stream",
     "name": "stdout",
     "output_type": "stream",
     "text": [
      "Out[63]: [7,\n 'harkirat',\n 'fractal',\n 2,\n 2,\n ['o', 'p', 'q'],\n ('o', 'p', 'q'),\n {'sopra steria': '2018-2022',\n  'fractal analyitcs': '2022-2025',\n  'product-based': \"2025'\"},\n ['weekly dates', 'gurdware']]"
     ]
    }
   ],
   "source": [
    "# Extract only values\n",
    "list(d8.values())"
   ]
  },
  {
   "cell_type": "code",
   "execution_count": 0,
   "metadata": {
    "application/vnd.databricks.v1+cell": {
     "cellMetadata": {
      "byteLimit": 2048000,
      "rowLimit": 10000
     },
     "inputWidgets": {},
     "nuid": "1636010f-099a-4a72-bdac-a1109d8c8078",
     "showTitle": false,
     "tableResultSettingsMap": {},
     "title": ""
    }
   },
   "outputs": [
    {
     "output_type": "stream",
     "name": "stdout",
     "output_type": "stream",
     "text": [
      "Out[64]: dict_items([('id', 7), ('name', 'harkirat'), ('company', 'fractal'), ('hands', 2), ('legs', 2), ('random_list', ['o', 'p', 'q']), ('random_tuple', ('o', 'p', 'q')), ('work_history', {'sopra steria': '2018-2022', 'fractal analyitcs': '2022-2025', 'product-based': \"2025'\"}), ('looks forward to', ['weekly dates', 'gurdware'])])"
     ]
    }
   ],
   "source": [
    "# key value dono chahiye\n",
    "d8.items()"
   ]
  },
  {
   "cell_type": "code",
   "execution_count": 0,
   "metadata": {
    "application/vnd.databricks.v1+cell": {
     "cellMetadata": {
      "byteLimit": 2048000,
      "rowLimit": 10000
     },
     "inputWidgets": {},
     "nuid": "a4f1e93b-989b-450d-ac75-89b0606ce431",
     "showTitle": false,
     "tableResultSettingsMap": {},
     "title": ""
    }
   },
   "outputs": [
    {
     "output_type": "stream",
     "name": "stdout",
     "output_type": "stream",
     "text": [
      "Out[65]: [('id', 7),\n ('name', 'harkirat'),\n ('company', 'fractal'),\n ('hands', 2),\n ('legs', 2),\n ('random_list', ['o', 'p', 'q']),\n ('random_tuple', ('o', 'p', 'q')),\n ('work_history',\n  {'sopra steria': '2018-2022',\n   'fractal analyitcs': '2022-2025',\n   'product-based': \"2025'\"}),\n ('looks forward to', ['weekly dates', 'gurdware'])]"
     ]
    }
   ],
   "source": [
    "list(d8.items())"
   ]
  },
  {
   "cell_type": "code",
   "execution_count": 0,
   "metadata": {
    "application/vnd.databricks.v1+cell": {
     "cellMetadata": {
      "byteLimit": 2048000,
      "rowLimit": 10000
     },
     "inputWidgets": {},
     "nuid": "8b3e08a0-3c8c-4af4-969b-3829a7cb72f5",
     "showTitle": false,
     "tableResultSettingsMap": {},
     "title": ""
    }
   },
   "outputs": [],
   "source": [
    "# delete whole dictionary\n",
    "d8.clear()"
   ]
  },
  {
   "cell_type": "code",
   "execution_count": 0,
   "metadata": {
    "application/vnd.databricks.v1+cell": {
     "cellMetadata": {
      "byteLimit": 2048000,
      "rowLimit": 10000
     },
     "inputWidgets": {},
     "nuid": "2a0bcae7-5cf2-41a7-8084-016a03b96fc8",
     "showTitle": false,
     "tableResultSettingsMap": {},
     "title": ""
    }
   },
   "outputs": [
    {
     "output_type": "stream",
     "name": "stdout",
     "output_type": "stream",
     "text": [
      "Out[68]: {}"
     ]
    }
   ],
   "source": [
    "d8"
   ]
  },
  {
   "cell_type": "code",
   "execution_count": 0,
   "metadata": {
    "application/vnd.databricks.v1+cell": {
     "cellMetadata": {},
     "inputWidgets": {},
     "nuid": "1c164c72-28ef-4527-9bec-429b9f49acdc",
     "showTitle": false,
     "tableResultSettingsMap": {},
     "title": ""
    }
   },
   "outputs": [],
   "source": []
  }
 ],
 "metadata": {
  "application/vnd.databricks.v1+notebook": {
   "computePreferences": null,
   "dashboards": [],
   "environmentMetadata": {
    "base_environment": "",
    "environment_version": "1"
   },
   "inputWidgetPreferences": null,
   "language": "python",
   "notebookMetadata": {
    "pythonIndentUnit": 4
   },
   "notebookName": "Data Structures: Dictionary",
   "widgets": {}
  }
 },
 "nbformat": 4,
 "nbformat_minor": 0
}
