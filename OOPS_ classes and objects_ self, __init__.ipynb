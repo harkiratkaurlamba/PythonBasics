{
 "cells": [
  {
   "cell_type": "code",
   "execution_count": 0,
   "metadata": {
    "application/vnd.databricks.v1+cell": {
     "cellMetadata": {
      "byteLimit": 2048000,
      "rowLimit": 10000
     },
     "inputWidgets": {},
     "nuid": "273df439-f9da-4c45-846c-887fbaae3dbb",
     "showTitle": false,
     "tableResultSettingsMap": {},
     "title": ""
    }
   },
   "outputs": [
    {
     "output_type": "stream",
     "name": "stdout",
     "output_type": "stream",
     "text": [
      "Out[1]: int"
     ]
    }
   ],
   "source": [
    "a= 5\n",
    "type(a)\n",
    "# a is object/instance/variable of int class-integer"
   ]
  },
  {
   "cell_type": "code",
   "execution_count": 0,
   "metadata": {
    "application/vnd.databricks.v1+cell": {
     "cellMetadata": {
      "byteLimit": 2048000,
      "rowLimit": 10000
     },
     "inputWidgets": {},
     "nuid": "90888d86-6c8b-4f16-9264-77414320d3f1",
     "showTitle": false,
     "tableResultSettingsMap": {},
     "title": ""
    }
   },
   "outputs": [],
   "source": [
    "# OOPS: code reusability\n",
    "# object is a variable of a class\n",
    "# "
   ]
  },
  {
   "cell_type": "markdown",
   "metadata": {
    "application/vnd.databricks.v1+cell": {
     "cellMetadata": {},
     "inputWidgets": {},
     "nuid": "d7766df7-e546-43e1-880c-31385b860567",
     "showTitle": false,
     "tableResultSettingsMap": {},
     "title": ""
    }
   },
   "source": [
    "### **Benefits of OOP**\n",
    "_**Reusability**_: Reuse code by defining a class once and using it many times. \n",
    "\n",
    "**_Modularity_**: Break down complex code into smaller, more manageable chunks. \n",
    "\n",
    "_**Problem-solving**_: Break down big tasks into smaller parts, making it easier to organize and maintain large projects. \n",
    "\n",
    "**_Scalability_**: Easily upgrade from small to large systems. \n",
    "\n",
    "**_Security_**: Data hiding features help with security concerns. \n",
    "\n",
    "**_Productivity_**: OOP practices help with productivity through clear and organized code structure. \n",
    "\n",
    "\n",
    "### **How OOP works**\n",
    "**_Inheritance_**: One class inherits the features of another class. \n",
    "\n",
    "**_Polymorphism_**: A routine can use variables of different types at different times. \n",
    "\n",
    "**_Encapsulation_**: A key principle of OOP that helps with code structure. "
   ]
  },
  {
   "cell_type": "code",
   "execution_count": 0,
   "metadata": {
    "application/vnd.databricks.v1+cell": {
     "cellMetadata": {
      "byteLimit": 2048000,
      "rowLimit": 10000
     },
     "inputWidgets": {},
     "nuid": "7278c72f-5a5b-4f4c-9b86-96f1d047cad3",
     "showTitle": false,
     "tableResultSettingsMap": {},
     "title": ""
    }
   },
   "outputs": [],
   "source": [
    "class test:\n",
    "    pass"
   ]
  },
  {
   "cell_type": "code",
   "execution_count": 0,
   "metadata": {
    "application/vnd.databricks.v1+cell": {
     "cellMetadata": {
      "byteLimit": 2048000,
      "rowLimit": 10000
     },
     "inputWidgets": {},
     "nuid": "8b5551a2-449b-4b46-988b-8ace1d6e1422",
     "showTitle": false,
     "tableResultSettingsMap": {},
     "title": ""
    }
   },
   "outputs": [],
   "source": [
    "# jab bhi aap class k andar koi function bnate ho to apko ek pointer, ek reference assign krna hota h\n",
    "# first wala variable jo hota h in function usko as a pointer bnana hota h\n",
    "# kyu krna hota h?\n",
    "# kyuki \n",
    "# kaise?\n",
    "# self: iska matlab ye function class ka h, class k andar ka h\n",
    "\n",
    "\n",
    "\n",
    "class first_class:\n",
    "    class_var = 8\n",
    "    def test_welcome(self):\n",
    "        print('welcome')"
   ]
  },
  {
   "cell_type": "code",
   "execution_count": 0,
   "metadata": {
    "application/vnd.databricks.v1+cell": {
     "cellMetadata": {
      "byteLimit": 2048000,
      "rowLimit": 10000
     },
     "inputWidgets": {},
     "nuid": "abd3bfb2-b361-4008-8091-6370adc6cd78",
     "showTitle": false,
     "tableResultSettingsMap": {},
     "title": ""
    }
   },
   "outputs": [
    {
     "output_type": "display_data",
     "data": {
      "text/plain": [
       "\u001B[0;31m---------------------------------------------------------------------------\u001B[0m\n",
       "\u001B[0;31mNameError\u001B[0m                                 Traceback (most recent call last)\n",
       "File \u001B[0;32m<command-910842115004512>:1\u001B[0m\n",
       "\u001B[0;32m----> 1\u001B[0m \u001B[43mtest_welcome\u001B[49m()\n",
       "\n",
       "\u001B[0;31mNameError\u001B[0m: name 'test_welcome' is not defined"
      ]
     },
     "metadata": {
      "application/vnd.databricks.v1+output": {
       "arguments": {},
       "data": "\u001B[0;31m---------------------------------------------------------------------------\u001B[0m\n\u001B[0;31mNameError\u001B[0m                                 Traceback (most recent call last)\nFile \u001B[0;32m<command-910842115004512>:1\u001B[0m\n\u001B[0;32m----> 1\u001B[0m \u001B[43mtest_welcome\u001B[49m()\n\n\u001B[0;31mNameError\u001B[0m: name 'test_welcome' is not defined",
       "errorSummary": "<span class='ansi-red-fg'>NameError</span>: name 'test_welcome' is not defined",
       "errorTraceType": "ansi",
       "metadata": {},
       "type": "ipynbError"
      }
     },
     "output_type": "display_data"
    }
   ],
   "source": [
    "test_welcome()\n",
    "#because it is inside the class, so seedha acces nhi kr sakte"
   ]
  },
  {
   "cell_type": "code",
   "execution_count": 0,
   "metadata": {
    "application/vnd.databricks.v1+cell": {
     "cellMetadata": {
      "byteLimit": 2048000,
      "rowLimit": 10000
     },
     "inputWidgets": {},
     "nuid": "2df49849-e154-488f-bc2a-e5c3cc7d268d",
     "showTitle": false,
     "tableResultSettingsMap": {},
     "title": ""
    }
   },
   "outputs": [
    {
     "output_type": "stream",
     "name": "stdout",
     "output_type": "stream",
     "text": [
      "welcome\n"
     ]
    }
   ],
   "source": [
    "# create class variable to access anything from class\n",
    "\n",
    "fun = first_class()\n",
    "fun.test_welcome()"
   ]
  },
  {
   "cell_type": "code",
   "execution_count": 0,
   "metadata": {
    "application/vnd.databricks.v1+cell": {
     "cellMetadata": {
      "byteLimit": 2048000,
      "rowLimit": 10000
     },
     "inputWidgets": {},
     "nuid": "d939a3c1-7301-4564-aadc-fc218abf7011",
     "showTitle": false,
     "tableResultSettingsMap": {},
     "title": ""
    }
   },
   "outputs": [
    {
     "output_type": "stream",
     "name": "stdout",
     "output_type": "stream",
     "text": [
      "Out[17]: 8"
     ]
    }
   ],
   "source": [
    "fun.class_var"
   ]
  },
  {
   "cell_type": "code",
   "execution_count": 0,
   "metadata": {
    "application/vnd.databricks.v1+cell": {
     "cellMetadata": {},
     "inputWidgets": {},
     "nuid": "40b2b2e8-a966-43e8-88b5-fbbbb74bb5f3",
     "showTitle": false,
     "tableResultSettingsMap": {},
     "title": ""
    }
   },
   "outputs": [],
   "source": [
    "# you can have any number of objects for a class"
   ]
  },
  {
   "cell_type": "code",
   "execution_count": 0,
   "metadata": {
    "application/vnd.databricks.v1+cell": {
     "cellMetadata": {
      "byteLimit": 2048000,
      "rowLimit": 10000
     },
     "inputWidgets": {},
     "nuid": "acfd9295-214a-407e-a983-793ac2d38dcb",
     "showTitle": false,
     "tableResultSettingsMap": {},
     "title": ""
    }
   },
   "outputs": [],
   "source": [
    "\n",
    "class second_class:\n",
    "    class_var = 8\n",
    "    def test_welcome(kirat):\n",
    "        print('second welcome')"
   ]
  },
  {
   "cell_type": "code",
   "execution_count": 0,
   "metadata": {
    "application/vnd.databricks.v1+cell": {
     "cellMetadata": {
      "byteLimit": 2048000,
      "rowLimit": 10000
     },
     "inputWidgets": {},
     "nuid": "12c05e2d-a130-4fb2-a245-bb2a28218e93",
     "showTitle": false,
     "tableResultSettingsMap": {},
     "title": ""
    }
   },
   "outputs": [
    {
     "output_type": "stream",
     "name": "stdout",
     "output_type": "stream",
     "text": [
      "second welcome\n"
     ]
    }
   ],
   "source": [
    "sec = second_class()\n",
    "sec.test_welcome()"
   ]
  },
  {
   "cell_type": "code",
   "execution_count": 0,
   "metadata": {
    "application/vnd.databricks.v1+cell": {
     "cellMetadata": {
      "byteLimit": 2048000,
      "rowLimit": 10000
     },
     "inputWidgets": {},
     "nuid": "82f2b4c6-bb6b-46a5-bf6e-14ea930be4ff",
     "showTitle": false,
     "tableResultSettingsMap": {},
     "title": ""
    }
   },
   "outputs": [],
   "source": [
    "# __init__ : data provide krta h, it is a constructor\n",
    "# \n",
    "\n",
    "class class3:\n",
    "    def __init__(self, name,age):\n",
    "        self.name = name\n",
    "        self.age = age"
   ]
  },
  {
   "cell_type": "code",
   "execution_count": 0,
   "metadata": {
    "application/vnd.databricks.v1+cell": {
     "cellMetadata": {
      "byteLimit": 2048000,
      "rowLimit": 10000
     },
     "inputWidgets": {},
     "nuid": "4c783820-9cba-45c0-9c3e-78f9f3a95640",
     "showTitle": false,
     "tableResultSettingsMap": {},
     "title": ""
    }
   },
   "outputs": [
    {
     "output_type": "display_data",
     "data": {
      "text/plain": [
       "\u001B[0;31m---------------------------------------------------------------------------\u001B[0m\n",
       "\u001B[0;31mTypeError\u001B[0m                                 Traceback (most recent call last)\n",
       "File \u001B[0;32m<command-1477088453150262>:1\u001B[0m\n",
       "\u001B[0;32m----> 1\u001B[0m me \u001B[38;5;241m=\u001B[39m \u001B[43mclass3\u001B[49m\u001B[43m(\u001B[49m\u001B[43m)\u001B[49m\n",
       "\n",
       "\u001B[0;31mTypeError\u001B[0m: __init__() missing 2 required positional arguments: 'name' and 'age'"
      ]
     },
     "metadata": {
      "application/vnd.databricks.v1+output": {
       "arguments": {},
       "data": "\u001B[0;31m---------------------------------------------------------------------------\u001B[0m\n\u001B[0;31mTypeError\u001B[0m                                 Traceback (most recent call last)\nFile \u001B[0;32m<command-1477088453150262>:1\u001B[0m\n\u001B[0;32m----> 1\u001B[0m me \u001B[38;5;241m=\u001B[39m \u001B[43mclass3\u001B[49m\u001B[43m(\u001B[49m\u001B[43m)\u001B[49m\n\n\u001B[0;31mTypeError\u001B[0m: __init__() missing 2 required positional arguments: 'name' and 'age'",
       "errorSummary": "<span class='ansi-red-fg'>TypeError</span>: __init__() missing 2 required positional arguments: 'name' and 'age'",
       "errorTraceType": "ansi",
       "metadata": {},
       "type": "ipynbError"
      }
     },
     "output_type": "display_data"
    }
   ],
   "source": [
    "me = class3()\n",
    "# constructor bna hua h, aur vo variables nhi mil rhe\n",
    "# TypeError: __init__() missing 2 required positional arguments: 'name' and 'age'\n",
    "# ex use case: agar hum databse connection establish kr rh h, to alag alag users ka id, password alag hona chahiye\n",
    "# jo run time m pick krega aur empty nhi ho sakta\n",
    "# har user ka apna object banega, apne db ka connection string, name, username, password doge\n",
    "\n",
    "# agar aap __init__() declare kr rhe ho yani ki constructor bna rhe ho, to jo bhi aap paramater pass kr rhe ho \n",
    "# in init at the time of init creation, vo empty nhi ho skte\n",
    "\n",
    "#object specific value pass krne k liye"
   ]
  },
  {
   "cell_type": "code",
   "execution_count": 0,
   "metadata": {
    "application/vnd.databricks.v1+cell": {
     "cellMetadata": {
      "byteLimit": 2048000,
      "rowLimit": 10000
     },
     "inputWidgets": {},
     "nuid": "e4d59b2c-9bbb-48ae-a29e-c1fb11be787e",
     "showTitle": false,
     "tableResultSettingsMap": {},
     "title": ""
    }
   },
   "outputs": [],
   "source": [
    "me = class3('matko',27)\n",
    "bhai = class3('ekam',23)\n",
    "did = class3('nonie',32)"
   ]
  },
  {
   "cell_type": "code",
   "execution_count": 0,
   "metadata": {
    "application/vnd.databricks.v1+cell": {
     "cellMetadata": {
      "byteLimit": 2048000,
      "rowLimit": 10000
     },
     "inputWidgets": {},
     "nuid": "3cbc0c15-bb18-4a2a-a369-833c49197d41",
     "showTitle": false,
     "tableResultSettingsMap": {},
     "title": ""
    }
   },
   "outputs": [
    {
     "output_type": "stream",
     "name": "stdout",
     "output_type": "stream",
     "text": [
      "Out[32]: 'matko'"
     ]
    }
   ],
   "source": [
    "me.name"
   ]
  },
  {
   "cell_type": "code",
   "execution_count": 0,
   "metadata": {
    "application/vnd.databricks.v1+cell": {
     "cellMetadata": {
      "byteLimit": 2048000,
      "rowLimit": 10000
     },
     "inputWidgets": {},
     "nuid": "04b6541d-e14c-4dd4-ac51-e22ea5458ab1",
     "showTitle": false,
     "tableResultSettingsMap": {},
     "title": ""
    }
   },
   "outputs": [
    {
     "output_type": "stream",
     "name": "stdout",
     "output_type": "stream",
     "text": [
      "Out[33]: 'nonie'"
     ]
    }
   ],
   "source": [
    "did.name"
   ]
  },
  {
   "cell_type": "code",
   "execution_count": 0,
   "metadata": {
    "application/vnd.databricks.v1+cell": {
     "cellMetadata": {
      "byteLimit": 2048000,
      "rowLimit": 10000
     },
     "inputWidgets": {},
     "nuid": "f796f518-be37-4723-8b13-ae1d293fa858",
     "showTitle": false,
     "tableResultSettingsMap": {},
     "title": ""
    }
   },
   "outputs": [
    {
     "output_type": "stream",
     "name": "stdout",
     "output_type": "stream",
     "text": [
      "Out[34]: 'ekam'"
     ]
    }
   ],
   "source": [
    "bhai.name"
   ]
  },
  {
   "cell_type": "code",
   "execution_count": 0,
   "metadata": {
    "application/vnd.databricks.v1+cell": {
     "cellMetadata": {
      "byteLimit": 2048000,
      "rowLimit": 10000
     },
     "inputWidgets": {},
     "nuid": "cd5fe00c-ee4f-49f4-873c-7b39a800e4eb",
     "showTitle": false,
     "tableResultSettingsMap": {},
     "title": ""
    }
   },
   "outputs": [],
   "source": [
    "class class4:\n",
    "    def __init__(self, name,age):\n",
    "        self.name1 = name\n",
    "        self.age1 = age"
   ]
  },
  {
   "cell_type": "code",
   "execution_count": 0,
   "metadata": {
    "application/vnd.databricks.v1+cell": {
     "cellMetadata": {
      "byteLimit": 2048000,
      "rowLimit": 10000
     },
     "inputWidgets": {},
     "nuid": "f8d22df7-031c-4191-94a3-a33af3c8b29b",
     "showTitle": false,
     "tableResultSettingsMap": {},
     "title": ""
    }
   },
   "outputs": [
    {
     "output_type": "display_data",
     "data": {
      "text/plain": [
       "\u001B[0;31m---------------------------------------------------------------------------\u001B[0m\n",
       "\u001B[0;31mAttributeError\u001B[0m                            Traceback (most recent call last)\n",
       "File \u001B[0;32m<command-1477088453150268>:2\u001B[0m\n",
       "\u001B[1;32m      1\u001B[0m me \u001B[38;5;241m=\u001B[39m class4(\u001B[38;5;124m'\u001B[39m\u001B[38;5;124mmatko\u001B[39m\u001B[38;5;124m'\u001B[39m,\u001B[38;5;241m27\u001B[39m)\n",
       "\u001B[0;32m----> 2\u001B[0m me\u001B[38;5;241m.\u001B[39mname\n",
       "\n",
       "\u001B[0;31mAttributeError\u001B[0m: 'class4' object has no attribute 'name'"
      ]
     },
     "metadata": {
      "application/vnd.databricks.v1+output": {
       "arguments": {},
       "data": "\u001B[0;31m---------------------------------------------------------------------------\u001B[0m\n\u001B[0;31mAttributeError\u001B[0m                            Traceback (most recent call last)\nFile \u001B[0;32m<command-1477088453150268>:2\u001B[0m\n\u001B[1;32m      1\u001B[0m me \u001B[38;5;241m=\u001B[39m class4(\u001B[38;5;124m'\u001B[39m\u001B[38;5;124mmatko\u001B[39m\u001B[38;5;124m'\u001B[39m,\u001B[38;5;241m27\u001B[39m)\n\u001B[0;32m----> 2\u001B[0m me\u001B[38;5;241m.\u001B[39mname\n\n\u001B[0;31mAttributeError\u001B[0m: 'class4' object has no attribute 'name'",
       "errorSummary": "<span class='ansi-red-fg'>AttributeError</span>: 'class4' object has no attribute 'name'",
       "errorTraceType": "ansi",
       "metadata": {},
       "type": "ipynbError"
      }
     },
     "output_type": "display_data"
    }
   ],
   "source": [
    "me = class4('matko',27)\n",
    "me.name\n",
    "# class ko sirf self se related wala variable h samajh aata h\n",
    "# AttributeError: 'class4' object has no attribute 'name'"
   ]
  },
  {
   "cell_type": "code",
   "execution_count": 0,
   "metadata": {
    "application/vnd.databricks.v1+cell": {
     "cellMetadata": {
      "byteLimit": 2048000,
      "rowLimit": 10000
     },
     "inputWidgets": {},
     "nuid": "0336c6ab-bfd4-44cc-a853-6611413724d6",
     "showTitle": false,
     "tableResultSettingsMap": {},
     "title": ""
    }
   },
   "outputs": [
    {
     "output_type": "stream",
     "name": "stdout",
     "output_type": "stream",
     "text": [
      "Out[43]: 'matko'"
     ]
    }
   ],
   "source": [
    "me.name1\n"
   ]
  },
  {
   "cell_type": "code",
   "execution_count": 0,
   "metadata": {
    "application/vnd.databricks.v1+cell": {
     "cellMetadata": {
      "byteLimit": 2048000,
      "rowLimit": 10000
     },
     "inputWidgets": {},
     "nuid": "370e26cd-6f24-41fb-9fb3-ad063d509161",
     "showTitle": false,
     "tableResultSettingsMap": {},
     "title": ""
    }
   },
   "outputs": [],
   "source": [
    "class class5:\n",
    "    def __init__(self, name,age):\n",
    "        self.name1 = name\n",
    "        self.age1 = age\n",
    "    def show(self):\n",
    "        # self.name1: agar class k anadar se koi variable call krna h to aise krte h\n",
    "        print(\"my object name is \",self.name1)"
   ]
  },
  {
   "cell_type": "code",
   "execution_count": 0,
   "metadata": {
    "application/vnd.databricks.v1+cell": {
     "cellMetadata": {
      "byteLimit": 2048000,
      "rowLimit": 10000
     },
     "inputWidgets": {},
     "nuid": "50f5611e-ae76-4000-b2e4-fb90fc69557f",
     "showTitle": false,
     "tableResultSettingsMap": {},
     "title": ""
    }
   },
   "outputs": [],
   "source": [
    "kirat = class5('matko', 27)"
   ]
  },
  {
   "cell_type": "code",
   "execution_count": 0,
   "metadata": {
    "application/vnd.databricks.v1+cell": {
     "cellMetadata": {
      "byteLimit": 2048000,
      "rowLimit": 10000
     },
     "inputWidgets": {},
     "nuid": "8fe5d4c9-a4a3-4e45-a3be-fd5d2226ac9a",
     "showTitle": false,
     "tableResultSettingsMap": {},
     "title": ""
    }
   },
   "outputs": [
    {
     "output_type": "stream",
     "name": "stdout",
     "output_type": "stream",
     "text": [
      "my object name is  matko\n"
     ]
    }
   ],
   "source": [
    "kirat.show()"
   ]
  },
  {
   "cell_type": "code",
   "execution_count": 0,
   "metadata": {
    "application/vnd.databricks.v1+cell": {
     "cellMetadata": {
      "byteLimit": 2048000,
      "rowLimit": 10000
     },
     "inputWidgets": {},
     "nuid": "0849884b-54b9-4b11-bcc5-4e9b3e39a49e",
     "showTitle": false,
     "tableResultSettingsMap": {},
     "title": ""
    }
   },
   "outputs": [
    {
     "output_type": "stream",
     "name": "stdout",
     "output_type": "stream",
     "text": [
      "my object name is  nonie\n"
     ]
    }
   ],
   "source": [
    "nonie = class5('nonie', 32)\n",
    "nonie.show()"
   ]
  },
  {
   "cell_type": "code",
   "execution_count": 0,
   "metadata": {
    "application/vnd.databricks.v1+cell": {
     "cellMetadata": {},
     "inputWidgets": {},
     "nuid": "e3d50b32-356e-4df6-a4b4-06305eacfd78",
     "showTitle": false,
     "tableResultSettingsMap": {},
     "title": ""
    }
   },
   "outputs": [],
   "source": []
  }
 ],
 "metadata": {
  "application/vnd.databricks.v1+notebook": {
   "computePreferences": null,
   "dashboards": [],
   "environmentMetadata": {
    "base_environment": "",
    "environment_version": "1"
   },
   "inputWidgetPreferences": null,
   "language": "python",
   "notebookMetadata": {
    "pythonIndentUnit": 4
   },
   "notebookName": "OOPS: classes and objects: self, __init__",
   "widgets": {}
  }
 },
 "nbformat": 4,
 "nbformat_minor": 0
}
