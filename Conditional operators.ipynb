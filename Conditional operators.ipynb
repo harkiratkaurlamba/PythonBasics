{
 "cells": [
  {
   "cell_type": "code",
   "execution_count": 0,
   "metadata": {
    "application/vnd.databricks.v1+cell": {
     "cellMetadata": {
      "byteLimit": 2048000,
      "rowLimit": 10000
     },
     "inputWidgets": {},
     "nuid": "7d5f4852-c899-43ba-b9f3-556f70cff731",
     "showTitle": false,
     "tableResultSettingsMap": {},
     "title": ""
    }
   },
   "outputs": [],
   "source": [
    "LIMIT_80C = 150000\n",
    "LIMIT_NPS = 50000\n",
    "Exhausted_80C = False"
   ]
  },
  {
   "cell_type": "code",
   "execution_count": 0,
   "metadata": {
    "application/vnd.databricks.v1+cell": {
     "cellMetadata": {
      "byteLimit": 2048000,
      "rowLimit": 10000
     },
     "inputWidgets": {},
     "nuid": "162551ca-888d-410e-bb9e-19da603c5340",
     "showTitle": false,
     "tableResultSettingsMap": {},
     "title": ""
    }
   },
   "outputs": [
    {
     "output_type": "display_data",
     "data": {
      "text/plain": [
       "enter yearly package 4000000"
      ]
     },
     "metadata": {},
     "output_type": "display_data"
    },
    {
     "output_type": "display_data",
     "data": {
      "text/plain": [
       "enter monthly nps contribution 15000"
      ]
     },
     "metadata": {},
     "output_type": "display_data"
    },
    {
     "output_type": "display_data",
     "data": {
      "text/plain": [
       " enter monthly epf contribution 3500000"
      ]
     },
     "metadata": {},
     "output_type": "display_data"
    }
   ],
   "source": [
    "income = int(input(\"enter yearly package\"))\n",
    "monthly_nps_deduction = int(input(\"enter monthly nps contribution\"))\n",
    "monthly_EPF_deduction = int(input(\" enter monthly epf contribution\"))\n",
    "\n",
    "# input() is by default string, so you need to type cast when your input is not string typed."
   ]
  },
  {
   "cell_type": "code",
   "execution_count": 0,
   "metadata": {
    "application/vnd.databricks.v1+cell": {
     "cellMetadata": {
      "byteLimit": 2048000,
      "rowLimit": 10000
     },
     "inputWidgets": {},
     "nuid": "e9cb4567-0594-4a40-8242-a45e6968593a",
     "showTitle": false,
     "tableResultSettingsMap": {},
     "title": ""
    }
   },
   "outputs": [],
   "source": [
    "STANDARD_DEDUCTION = 50000"
   ]
  },
  {
   "cell_type": "code",
   "execution_count": 0,
   "metadata": {
    "application/vnd.databricks.v1+cell": {
     "cellMetadata": {
      "byteLimit": 2048000,
      "rowLimit": 10000
     },
     "inputWidgets": {},
     "nuid": "62a56e22-3b55-41cb-9457-9c69b547b07f",
     "showTitle": false,
     "tableResultSettingsMap": {},
     "title": ""
    }
   },
   "outputs": [
    {
     "output_type": "stream",
     "name": "stdout",
     "output_type": "stream",
     "text": [
      "180000\n"
     ]
    }
   ],
   "source": [
    "yeraly_EPF = 12*monthly_EPF_deduction\n",
    "yearly_nps = 12*monthly_nps_deduction\n",
    "print(yearly_nps)\n",
    "if yeraly_EPF >= LIMIT_80C:\n",
    "    deduct = LIMIT_80C\n",
    "    Exhausted_80C = True\n",
    "elif yeraly_EPF < LIMIT_80C:\n",
    "    deduct = yeraly_EPF\n",
    "\n",
    "if Exhausted_80C == True & yearly_nps < 50000:\n",
    "    deduct = deduct+yearly_nps\n",
    "elif Exhausted_80C == True & yearly_nps >= 50000:\n",
    "    deduct = deduct+50000\n",
    "    print(deduct)\n",
    "\n",
    "deduct = deduct - STANDARD_DEDUCTION\n",
    "net_income = income - deduct\n"
   ]
  },
  {
   "cell_type": "code",
   "execution_count": 0,
   "metadata": {
    "application/vnd.databricks.v1+cell": {
     "cellMetadata": {
      "byteLimit": 2048000,
      "rowLimit": 10000
     },
     "inputWidgets": {},
     "nuid": "1eeea128-5e7e-474f-ac0b-10a8304b8ed0",
     "showTitle": false,
     "tableResultSettingsMap": {},
     "title": ""
    }
   },
   "outputs": [
    {
     "output_type": "stream",
     "name": "stdout",
     "output_type": "stream",
     "text": [
      "3900000\n"
     ]
    }
   ],
   "source": [
    "print(net_income)"
   ]
  },
  {
   "cell_type": "code",
   "execution_count": 0,
   "metadata": {
    "application/vnd.databricks.v1+cell": {
     "cellMetadata": {
      "byteLimit": 2048000,
      "rowLimit": 10000
     },
     "inputWidgets": {},
     "nuid": "794c3689-d312-4516-bc4c-58feef66e623",
     "showTitle": false,
     "tableResultSettingsMap": {},
     "title": ""
    }
   },
   "outputs": [
    {
     "output_type": "display_data",
     "data": {
      "text/plain": [
       "enter a number 67.9"
      ]
     },
     "metadata": {},
     "output_type": "display_data"
    }
   ],
   "source": [
    "f = float(input(\"enter a number\"))"
   ]
  },
  {
   "cell_type": "code",
   "execution_count": 0,
   "metadata": {
    "application/vnd.databricks.v1+cell": {
     "cellMetadata": {},
     "inputWidgets": {},
     "nuid": "94bc195a-79e0-42d7-bf68-cf243093610c",
     "showTitle": false,
     "tableResultSettingsMap": {},
     "title": ""
    }
   },
   "outputs": [],
   "source": []
  }
 ],
 "metadata": {
  "application/vnd.databricks.v1+notebook": {
   "computePreferences": null,
   "dashboards": [],
   "environmentMetadata": {
    "base_environment": "",
    "environment_version": "1"
   },
   "inputWidgetPreferences": null,
   "language": "python",
   "notebookMetadata": {
    "pythonIndentUnit": 4
   },
   "notebookName": "Conditional operators",
   "widgets": {}
  }
 },
 "nbformat": 4,
 "nbformat_minor": 0
}
