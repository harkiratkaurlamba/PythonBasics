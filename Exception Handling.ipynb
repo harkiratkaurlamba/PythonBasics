{
 "cells": [
  {
   "cell_type": "code",
   "execution_count": 0,
   "metadata": {
    "application/vnd.databricks.v1+cell": {
     "cellMetadata": {
      "byteLimit": 2048000,
      "rowLimit": 10000
     },
     "inputWidgets": {},
     "nuid": "405ba635-299d-4964-a675-5f39d0e94a1f",
     "showTitle": false,
     "tableResultSettingsMap": {},
     "title": ""
    }
   },
   "outputs": [
    {
     "output_type": "display_data",
     "data": {
      "text/plain": [
       "number 0"
      ]
     },
     "metadata": {},
     "output_type": "display_data"
    },
    {
     "output_type": "stream",
     "name": "stdout",
     "output_type": "stream",
     "text": [
      "kaam ki baat kr\n"
     ]
    }
   ],
   "source": [
    "try:\n",
    "    i = int(input(\"number\"))\n",
    "    print(9/i)\n",
    "except:\n",
    "    print(\"kaam ki baat kr\")\n",
    "finally:\n",
    "    print(\"begani shadi m abdulla diwana\")"
   ]
  },
  {
   "cell_type": "code",
   "execution_count": 0,
   "metadata": {
    "application/vnd.databricks.v1+cell": {
     "cellMetadata": {},
     "inputWidgets": {},
     "nuid": "da44297e-405f-4935-a159-616018d5818b",
     "showTitle": false,
     "tableResultSettingsMap": {},
     "title": ""
    }
   },
   "outputs": [],
   "source": [
    "#try - write suspiciou code here\n",
    "#except: how do you want to handle the exception\n",
    "# finally: ye hamesha hi chalega\n",
    "# do we do try except in data engineering pipelines"
   ]
  },
  {
   "cell_type": "code",
   "execution_count": 0,
   "metadata": {
    "application/vnd.databricks.v1+cell": {
     "cellMetadata": {
      "byteLimit": 2048000,
      "rowLimit": 10000
     },
     "inputWidgets": {},
     "nuid": "393966e1-9e69-46e3-9b0d-9148d920036b",
     "showTitle": false,
     "tableResultSettingsMap": {},
     "title": ""
    }
   },
   "outputs": [
    {
     "output_type": "display_data",
     "data": {
      "text/plain": [
       "number 0"
      ]
     },
     "metadata": {},
     "output_type": "display_data"
    },
    {
     "output_type": "stream",
     "name": "stdout",
     "output_type": "stream",
     "text": [
      "Error haii:   division by zero\nbegani shadi m abdulla diwana\n"
     ]
    }
   ],
   "source": [
    "# print original error message for debugging or investigation\n",
    "\n",
    "# Exception super class m jitne bhi type k errors ho sakte thy, vo likh diye gye h\n",
    "# e ko log kr sakte ho\n",
    "\n",
    "try:\n",
    "    i = int(input(\"number\"))\n",
    "    print(9/i)\n",
    "except Exception as e:\n",
    "    print(\"Error haii:  \", e)\n",
    "finally:\n",
    "    print(\"begani shadi m abdulla diwana\")\n"
   ]
  },
  {
   "cell_type": "code",
   "execution_count": 0,
   "metadata": {
    "application/vnd.databricks.v1+cell": {
     "cellMetadata": {
      "byteLimit": 2048000,
      "rowLimit": 10000
     },
     "inputWidgets": {},
     "nuid": "7bba13e9-a08e-48a0-8de7-b2e5ce1e7d28",
     "showTitle": false,
     "tableResultSettingsMap": {},
     "title": ""
    }
   },
   "outputs": [
    {
     "output_type": "display_data",
     "data": {
      "text/plain": [
       "number 0"
      ]
     },
     "metadata": {},
     "output_type": "display_data"
    },
    {
     "output_type": "stream",
     "name": "stdout",
     "output_type": "stream",
     "text": [
      "begani shadi m abdulla diwana\n"
     ]
    },
    {
     "output_type": "display_data",
     "data": {
      "text/plain": [
       "\u001B[0;31m---------------------------------------------------------------------------\u001B[0m\n",
       "\u001B[0;31mZeroDivisionError\u001B[0m                         Traceback (most recent call last)\n",
       "File \u001B[0;32m<command-371541374267778>:5\u001B[0m\n",
       "\u001B[1;32m      3\u001B[0m \u001B[38;5;28;01mtry\u001B[39;00m:\n",
       "\u001B[1;32m      4\u001B[0m     i \u001B[38;5;241m=\u001B[39m \u001B[38;5;28mint\u001B[39m(\u001B[38;5;28minput\u001B[39m(\u001B[38;5;124m\"\u001B[39m\u001B[38;5;124mnumber\u001B[39m\u001B[38;5;124m\"\u001B[39m))\n",
       "\u001B[0;32m----> 5\u001B[0m     \u001B[38;5;28mprint\u001B[39m(\u001B[38;5;241;43m9\u001B[39;49m\u001B[38;5;241;43m/\u001B[39;49m\u001B[43mi\u001B[49m)\n",
       "\u001B[1;32m      7\u001B[0m \u001B[38;5;66;03m# sirf value error ko catch krege\u001B[39;00m\n",
       "\u001B[1;32m      8\u001B[0m \u001B[38;5;66;03m# hum value error aaega tabhi chalunga warna nhi kaa krega\u001B[39;00m\n",
       "\u001B[1;32m      9\u001B[0m \u001B[38;5;28;01mexcept\u001B[39;00m \u001B[38;5;167;01mValueError\u001B[39;00m \u001B[38;5;28;01mas\u001B[39;00m e:\n",
       "\n",
       "\u001B[0;31mZeroDivisionError\u001B[0m: division by zero"
      ]
     },
     "metadata": {
      "application/vnd.databricks.v1+output": {
       "arguments": {},
       "data": "\u001B[0;31m---------------------------------------------------------------------------\u001B[0m\n\u001B[0;31mZeroDivisionError\u001B[0m                         Traceback (most recent call last)\nFile \u001B[0;32m<command-371541374267778>:5\u001B[0m\n\u001B[1;32m      3\u001B[0m \u001B[38;5;28;01mtry\u001B[39;00m:\n\u001B[1;32m      4\u001B[0m     i \u001B[38;5;241m=\u001B[39m \u001B[38;5;28mint\u001B[39m(\u001B[38;5;28minput\u001B[39m(\u001B[38;5;124m\"\u001B[39m\u001B[38;5;124mnumber\u001B[39m\u001B[38;5;124m\"\u001B[39m))\n\u001B[0;32m----> 5\u001B[0m     \u001B[38;5;28mprint\u001B[39m(\u001B[38;5;241;43m9\u001B[39;49m\u001B[38;5;241;43m/\u001B[39;49m\u001B[43mi\u001B[49m)\n\u001B[1;32m      7\u001B[0m \u001B[38;5;66;03m# sirf value error ko catch krege\u001B[39;00m\n\u001B[1;32m      8\u001B[0m \u001B[38;5;66;03m# hum value error aaega tabhi chalunga warna nhi kaa krega\u001B[39;00m\n\u001B[1;32m      9\u001B[0m \u001B[38;5;28;01mexcept\u001B[39;00m \u001B[38;5;167;01mValueError\u001B[39;00m \u001B[38;5;28;01mas\u001B[39;00m e:\n\n\u001B[0;31mZeroDivisionError\u001B[0m: division by zero",
       "errorSummary": "<span class='ansi-red-fg'>ZeroDivisionError</span>: division by zero",
       "errorTraceType": "ansi",
       "metadata": {},
       "type": "ipynbError"
      }
     },
     "output_type": "display_data"
    }
   ],
   "source": [
    "# value error is sub class to Exception class(super class)\n",
    "\n",
    "try:\n",
    "    i = int(input(\"number\"))\n",
    "    print(9/i)\n",
    "\n",
    "# sirf value error ko catch krege\n",
    "# hum value error aaega tabhi chalunga warna nhi kaa krega\n",
    "# hence error not handled\n",
    "except ValueError as e:\n",
    "    print(\"Error haii:  \", e)\n",
    "finally:\n",
    "    print(\"begani shadi m abdulla diwana\")"
   ]
  },
  {
   "cell_type": "code",
   "execution_count": 0,
   "metadata": {
    "application/vnd.databricks.v1+cell": {
     "cellMetadata": {
      "byteLimit": 2048000,
      "rowLimit": 10000
     },
     "inputWidgets": {},
     "nuid": "a46c92ec-f74e-42b3-b6aa-6298fffcf580",
     "showTitle": false,
     "tableResultSettingsMap": {},
     "title": ""
    }
   },
   "outputs": [
    {
     "output_type": "display_data",
     "data": {
      "text/plain": [
       "number s"
      ]
     },
     "metadata": {},
     "output_type": "display_data"
    },
    {
     "output_type": "stream",
     "name": "stdout",
     "output_type": "stream",
     "text": [
      "Error haii:   invalid literal for int() with base 10: 's'\nbegani shadi m abdulla diwana\n"
     ]
    }
   ],
   "source": [
    "# As a good programming practice, you should not use Exception super class. use specific error class to understand the exception, as debugging easy ho jati h, pta hota h kaha se aur kya error aya\n",
    "# end m exception likh do so last m agr koi miss ho jaa rha h to super class handle kr le\n",
    "\n",
    "try:\n",
    "    i = int(input(\"number\"))\n",
    "    print(9/i)\n",
    "\n",
    "except ValueError as e:\n",
    "    print(\"Error haii:  \", e)\n",
    "except ZeroDivisionError as e:\n",
    "    print(e)\n",
    "except Exception as e:\n",
    "    print(e)\n",
    "finally:\n",
    "    print(\"begani shadi m abdulla diwana\")"
   ]
  },
  {
   "cell_type": "code",
   "execution_count": 0,
   "metadata": {
    "application/vnd.databricks.v1+cell": {
     "cellMetadata": {},
     "inputWidgets": {},
     "nuid": "43dc03ab-ba8a-4d15-83ed-6767767a335f",
     "showTitle": false,
     "tableResultSettingsMap": {},
     "title": ""
    }
   },
   "outputs": [],
   "source": [
    "s"
   ]
  }
 ],
 "metadata": {
  "application/vnd.databricks.v1+notebook": {
   "computePreferences": null,
   "dashboards": [],
   "environmentMetadata": {
    "base_environment": "",
    "environment_version": "1"
   },
   "inputWidgetPreferences": null,
   "language": "python",
   "notebookMetadata": {
    "pythonIndentUnit": 4
   },
   "notebookName": "Exception Handling",
   "widgets": {}
  }
 },
 "nbformat": 4,
 "nbformat_minor": 0
}
