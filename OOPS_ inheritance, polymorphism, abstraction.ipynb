{
 "cells": [
  {
   "cell_type": "code",
   "execution_count": 0,
   "metadata": {
    "application/vnd.databricks.v1+cell": {
     "cellMetadata": {
      "byteLimit": 2048000,
      "rowLimit": 10000
     },
     "inputWidgets": {},
     "nuid": "d40723ec-b492-48b8-a3ca-9ce069911932",
     "showTitle": false,
     "tableResultSettingsMap": {},
     "title": ""
    }
   },
   "outputs": [],
   "source": [
    "class master():\n",
    "    def printer(self):\n",
    "        print(\"i am method of class master\")"
   ]
  },
  {
   "cell_type": "code",
   "execution_count": 0,
   "metadata": {
    "application/vnd.databricks.v1+cell": {
     "cellMetadata": {
      "byteLimit": 2048000,
      "rowLimit": 10000
     },
     "inputWidgets": {},
     "nuid": "5228fb60-b8cf-4205-9c95-9ec3bb50f38f",
     "showTitle": false,
     "tableResultSettingsMap": {},
     "title": ""
    }
   },
   "outputs": [],
   "source": [
    "# kiddo inherits master\n",
    "class kiddo(master):\n",
    "    pass"
   ]
  },
  {
   "cell_type": "code",
   "execution_count": 0,
   "metadata": {
    "application/vnd.databricks.v1+cell": {
     "cellMetadata": {
      "byteLimit": 2048000,
      "rowLimit": 10000
     },
     "inputWidgets": {},
     "nuid": "3637f6e7-7292-4afb-bf1d-0f85bd66659d",
     "showTitle": false,
     "tableResultSettingsMap": {},
     "title": ""
    }
   },
   "outputs": [],
   "source": [
    "kid1 = kiddo()"
   ]
  },
  {
   "cell_type": "code",
   "execution_count": 0,
   "metadata": {
    "application/vnd.databricks.v1+cell": {
     "cellMetadata": {
      "byteLimit": 2048000,
      "rowLimit": 10000
     },
     "inputWidgets": {},
     "nuid": "5f69384b-9d23-4cf3-84b6-8bc4e6a162b0",
     "showTitle": false,
     "tableResultSettingsMap": {},
     "title": ""
    }
   },
   "outputs": [
    {
     "output_type": "stream",
     "name": "stdout",
     "output_type": "stream",
     "text": [
      "i am method of class master\n"
     ]
    }
   ],
   "source": [
    "kid1.printer()\n",
    "# re-use kr rhe h parent class k method ko, inheritance"
   ]
  },
  {
   "cell_type": "code",
   "execution_count": 0,
   "metadata": {
    "application/vnd.databricks.v1+cell": {
     "cellMetadata": {
      "byteLimit": 2048000,
      "rowLimit": 10000
     },
     "inputWidgets": {},
     "nuid": "4cbcfd51-45ea-454d-88a0-dbed3d91d053",
     "showTitle": false,
     "tableResultSettingsMap": {},
     "title": ""
    }
   },
   "outputs": [],
   "source": [
    "class master2():\n",
    "\n",
    "    def __init__(self, name, place, animal, thing):\n",
    "        self.name = name\n",
    "        self.place = place\n",
    "        self.animal = animal\n",
    "        self.thing = thing\n",
    "    \n",
    "    def writer(self):\n",
    "        print(\"name: \", self.name , \" place: \" , self.place ,\" animal: \", self.animal, \" thing:\", self.thing )"
   ]
  },
  {
   "cell_type": "code",
   "execution_count": 0,
   "metadata": {
    "application/vnd.databricks.v1+cell": {
     "cellMetadata": {
      "byteLimit": 2048000,
      "rowLimit": 10000
     },
     "inputWidgets": {},
     "nuid": "1d703367-d41f-49c5-a844-2be355bf4b3e",
     "showTitle": false,
     "tableResultSettingsMap": {},
     "title": ""
    }
   },
   "outputs": [],
   "source": [
    "class slave(master2):\n",
    "\n",
    "    def slavery(self):\n",
    "        print(\" mera maat pita har raiyaa \")\n",
    "        "
   ]
  },
  {
   "cell_type": "code",
   "execution_count": 0,
   "metadata": {
    "application/vnd.databricks.v1+cell": {
     "cellMetadata": {
      "byteLimit": 2048000,
      "rowLimit": 10000
     },
     "inputWidgets": {},
     "nuid": "b9a6e627-37fc-4358-8ad4-c1f2330c4024",
     "showTitle": false,
     "tableResultSettingsMap": {},
     "title": ""
    }
   },
   "outputs": [
    {
     "output_type": "display_data",
     "data": {
      "text/plain": [
       "\u001B[0;31m---------------------------------------------------------------------------\u001B[0m\n",
       "\u001B[0;31mTypeError\u001B[0m                                 Traceback (most recent call last)\n",
       "File \u001B[0;32m<command-1012530071226279>:1\u001B[0m\n",
       "\u001B[0;32m----> 1\u001B[0m slay1 \u001B[38;5;241m=\u001B[39m \u001B[43mslave\u001B[49m\u001B[43m(\u001B[49m\u001B[43m)\u001B[49m\n",
       "\n",
       "\u001B[0;31mTypeError\u001B[0m: __init__() missing 4 required positional arguments: 'name', 'place', 'animal', and 'thing'"
      ]
     },
     "metadata": {
      "application/vnd.databricks.v1+output": {
       "arguments": {},
       "data": "\u001B[0;31m---------------------------------------------------------------------------\u001B[0m\n\u001B[0;31mTypeError\u001B[0m                                 Traceback (most recent call last)\nFile \u001B[0;32m<command-1012530071226279>:1\u001B[0m\n\u001B[0;32m----> 1\u001B[0m slay1 \u001B[38;5;241m=\u001B[39m \u001B[43mslave\u001B[49m\u001B[43m(\u001B[49m\u001B[43m)\u001B[49m\n\n\u001B[0;31mTypeError\u001B[0m: __init__() missing 4 required positional arguments: 'name', 'place', 'animal', and 'thing'",
       "errorSummary": "<span class='ansi-red-fg'>TypeError</span>: __init__() missing 4 required positional arguments: 'name', 'place', 'animal', and 'thing'",
       "errorTraceType": "ansi",
       "metadata": {},
       "type": "ipynbError"
      }
     },
     "output_type": "display_data"
    }
   ],
   "source": [
    "slay1 = slave()\n",
    "\n",
    "# Slavery has inherited the master2, so the constructor is also inherited. \n",
    "# in order to create an object of slave class, you need to give constructor parameters of master2\n",
    "\n",
    "# TypeError: __init__() missing 4 required positional arguments: 'name', 'place', 'animal', and 'thing'"
   ]
  },
  {
   "cell_type": "code",
   "execution_count": 0,
   "metadata": {
    "application/vnd.databricks.v1+cell": {
     "cellMetadata": {
      "byteLimit": 2048000,
      "rowLimit": 10000
     },
     "inputWidgets": {},
     "nuid": "29afc9b7-e171-4354-9167-680f50bef7f0",
     "showTitle": false,
     "tableResultSettingsMap": {},
     "title": ""
    }
   },
   "outputs": [],
   "source": [
    "slay1 = slave('matko','darbaar sahib amritsar', 'horses', 'watch')"
   ]
  },
  {
   "cell_type": "code",
   "execution_count": 0,
   "metadata": {
    "application/vnd.databricks.v1+cell": {
     "cellMetadata": {
      "byteLimit": 2048000,
      "rowLimit": 10000
     },
     "inputWidgets": {},
     "nuid": "17d2f4b8-e8f5-4e63-9cc1-6cd34575023e",
     "showTitle": false,
     "tableResultSettingsMap": {},
     "title": ""
    }
   },
   "outputs": [
    {
     "output_type": "stream",
     "name": "stdout",
     "output_type": "stream",
     "text": [
      " mera maat pita har raiyaa \n"
     ]
    }
   ],
   "source": [
    "slay1.slavery()"
   ]
  },
  {
   "cell_type": "code",
   "execution_count": 0,
   "metadata": {
    "application/vnd.databricks.v1+cell": {
     "cellMetadata": {
      "byteLimit": 2048000,
      "rowLimit": 10000
     },
     "inputWidgets": {},
     "nuid": "165508a6-dd53-4d90-b43e-97bc7b94f310",
     "showTitle": false,
     "tableResultSettingsMap": {},
     "title": ""
    }
   },
   "outputs": [
    {
     "output_type": "stream",
     "name": "stdout",
     "output_type": "stream",
     "text": [
      "name:  matko  place:  darbaar sahib amritsar  animal:  horses  thing: watch\n"
     ]
    }
   ],
   "source": [
    "slay1.writer()"
   ]
  },
  {
   "cell_type": "code",
   "execution_count": 0,
   "metadata": {
    "application/vnd.databricks.v1+cell": {
     "cellMetadata": {
      "byteLimit": 2048000,
      "rowLimit": 10000
     },
     "inputWidgets": {},
     "nuid": "1f086598-355e-41dd-994d-1b1a16527849",
     "showTitle": false,
     "tableResultSettingsMap": {},
     "title": ""
    }
   },
   "outputs": [
    {
     "output_type": "stream",
     "name": "stdout",
     "output_type": "stream",
     "text": [
      "Out[11]: 'darbaar sahib amritsar'"
     ]
    }
   ],
   "source": [
    "slay1.place\n",
    "# accessing master2's variables from slave's object"
   ]
  },
  {
   "cell_type": "code",
   "execution_count": 0,
   "metadata": {
    "application/vnd.databricks.v1+cell": {
     "cellMetadata": {
      "byteLimit": 2048000,
      "rowLimit": 10000
     },
     "inputWidgets": {},
     "nuid": "78fae873-3b23-47de-8ee9-cd7b19248498",
     "showTitle": false,
     "tableResultSettingsMap": {},
     "title": ""
    }
   },
   "outputs": [],
   "source": [
    "class master3():   \n",
    "    def writer(self):\n",
    "        print(\"part of master3 class\" )\n",
    "\n",
    "class slave3(master3):\n",
    "\n",
    "    def writer(self):\n",
    "        print(\"part of slave3 class\")"
   ]
  },
  {
   "cell_type": "code",
   "execution_count": 0,
   "metadata": {
    "application/vnd.databricks.v1+cell": {
     "cellMetadata": {
      "byteLimit": 2048000,
      "rowLimit": 10000
     },
     "inputWidgets": {},
     "nuid": "be1784ac-c0cf-4bbc-af40-17614ad5b558",
     "showTitle": false,
     "tableResultSettingsMap": {},
     "title": ""
    }
   },
   "outputs": [],
   "source": [
    "slay3 = slave3()"
   ]
  },
  {
   "cell_type": "code",
   "execution_count": 0,
   "metadata": {
    "application/vnd.databricks.v1+cell": {
     "cellMetadata": {
      "byteLimit": 2048000,
      "rowLimit": 10000
     },
     "inputWidgets": {},
     "nuid": "12f5f3e6-819e-4379-ba9b-11fff8fc9018",
     "showTitle": false,
     "tableResultSettingsMap": {},
     "title": ""
    }
   },
   "outputs": [
    {
     "output_type": "stream",
     "name": "stdout",
     "output_type": "stream",
     "text": [
      "part of slave3 class\n"
     ]
    }
   ],
   "source": [
    "# this is method overriding\n",
    "\n",
    "slay3.writer()\n",
    "# when we had same name function in parent class and child class, then child class's function is being called\n"
   ]
  },
  {
   "cell_type": "code",
   "execution_count": 0,
   "metadata": {
    "application/vnd.databricks.v1+cell": {
     "cellMetadata": {
      "byteLimit": 2048000,
      "rowLimit": 10000
     },
     "inputWidgets": {},
     "nuid": "655f4682-2225-4fc4-bb4e-2fa460ab422e",
     "showTitle": false,
     "tableResultSettingsMap": {},
     "title": ""
    }
   },
   "outputs": [],
   "source": [
    "# Super:\n",
    "# agar parent class ka hi method run krna h \n",
    "\n",
    "class master4():   \n",
    "    def writer(self):\n",
    "        print(\"part of master4 class\" )\n",
    "\n",
    "class slave4(master4):\n",
    "    def writer(self):\n",
    "        super().writer()\n",
    "        # somthing you wnat to do after running parent class' func\n",
    "        print(\"part of slave4 class\")"
   ]
  },
  {
   "cell_type": "code",
   "execution_count": 0,
   "metadata": {
    "application/vnd.databricks.v1+cell": {
     "cellMetadata": {
      "byteLimit": 2048000,
      "rowLimit": 10000
     },
     "inputWidgets": {},
     "nuid": "e8619be0-0925-4fa0-b385-28fccf369da3",
     "showTitle": false,
     "tableResultSettingsMap": {},
     "title": ""
    }
   },
   "outputs": [
    {
     "output_type": "stream",
     "name": "stdout",
     "output_type": "stream",
     "text": [
      "part of master4 class\npart of slave4 class\n"
     ]
    }
   ],
   "source": [
    "slay4 = slave4()\n",
    "slay4.writer()"
   ]
  },
  {
   "cell_type": "code",
   "execution_count": 0,
   "metadata": {
    "application/vnd.databricks.v1+cell": {
     "cellMetadata": {
      "byteLimit": 2048000,
      "rowLimit": 10000
     },
     "inputWidgets": {},
     "nuid": "d549a059-788c-4a70-b1dd-2398a1adc93d",
     "showTitle": false,
     "tableResultSettingsMap": {},
     "title": ""
    }
   },
   "outputs": [],
   "source": [
    "\n",
    "class c1():\n",
    "    def c1(self):\n",
    "        print(\"c1\")\n",
    "# Multiple classes can inherit from same base class\n",
    "class c2(c1):\n",
    "    def c2(self):\n",
    "        print(\"c2\")\n",
    "\n",
    "class c3(c1):\n",
    "    def c3(self):\n",
    "        print(\"c3\")\n",
    "\n",
    "# class can inherit from multiple classes\n",
    "class c4(c2,c3):\n",
    "    def c4(self):\n",
    "        print(\"c4\")"
   ]
  },
  {
   "cell_type": "code",
   "execution_count": 0,
   "metadata": {
    "application/vnd.databricks.v1+cell": {
     "cellMetadata": {
      "byteLimit": 2048000,
      "rowLimit": 10000
     },
     "inputWidgets": {},
     "nuid": "79d9882c-de8c-4954-b71e-e36786e4240f",
     "showTitle": false,
     "tableResultSettingsMap": {},
     "title": ""
    }
   },
   "outputs": [
    {
     "output_type": "stream",
     "name": "stdout",
     "output_type": "stream",
     "text": [
      "c1\n"
     ]
    }
   ],
   "source": [
    "c3 = c3()\n",
    "c3.c1()"
   ]
  },
  {
   "cell_type": "code",
   "execution_count": 0,
   "metadata": {
    "application/vnd.databricks.v1+cell": {
     "cellMetadata": {
      "byteLimit": 2048000,
      "rowLimit": 10000
     },
     "inputWidgets": {},
     "nuid": "07349cee-ccf4-4068-adf0-b2bddc9d0581",
     "showTitle": false,
     "tableResultSettingsMap": {},
     "title": ""
    }
   },
   "outputs": [
    {
     "output_type": "stream",
     "name": "stdout",
     "output_type": "stream",
     "text": [
      "c1\n"
     ]
    }
   ],
   "source": [
    "c2 = c2()\n",
    "c2.c1()"
   ]
  },
  {
   "cell_type": "code",
   "execution_count": 0,
   "metadata": {
    "application/vnd.databricks.v1+cell": {
     "cellMetadata": {
      "byteLimit": 2048000,
      "rowLimit": 10000
     },
     "inputWidgets": {},
     "nuid": "494cf9d0-bdb5-4a65-be39-ce31726fc953",
     "showTitle": false,
     "tableResultSettingsMap": {},
     "title": ""
    }
   },
   "outputs": [],
   "source": [
    "c4 = c4()"
   ]
  },
  {
   "cell_type": "code",
   "execution_count": 0,
   "metadata": {
    "application/vnd.databricks.v1+cell": {
     "cellMetadata": {
      "byteLimit": 2048000,
      "rowLimit": 10000
     },
     "inputWidgets": {},
     "nuid": "f711771c-5e4e-4b75-9c3a-4605f812c3a5",
     "showTitle": false,
     "tableResultSettingsMap": {},
     "title": ""
    }
   },
   "outputs": [
    {
     "output_type": "stream",
     "name": "stdout",
     "output_type": "stream",
     "text": [
      "c1\n"
     ]
    }
   ],
   "source": [
    "c4.c1()"
   ]
  },
  {
   "cell_type": "code",
   "execution_count": 0,
   "metadata": {
    "application/vnd.databricks.v1+cell": {
     "cellMetadata": {
      "byteLimit": 2048000,
      "rowLimit": 10000
     },
     "inputWidgets": {},
     "nuid": "3b6d48e1-3bd2-4166-9a44-d393955c633a",
     "showTitle": false,
     "tableResultSettingsMap": {},
     "title": ""
    }
   },
   "outputs": [],
   "source": [
    "# multi class inheritanc m agar func name conflict h to jo class pehle specify hogi uska method consider hoga\n",
    "class mom():\n",
    "    def c1(self):\n",
    "        print(\"mom\")\n",
    "class dad():\n",
    "    def c1(self):\n",
    "        print(\"dad\")\n",
    "# MRO\n",
    "# TypeError: Cannot create a consistent method resolution\n",
    "class kidoo(mom,dad):\n",
    "    pass\n",
    "\n",
    "kid2 = kidoo()\n",
    "kid2.c1()\n",
    "# kyuki pehle mom likha h inhrit krte waqt"
   ]
  },
  {
   "cell_type": "code",
   "execution_count": 0,
   "metadata": {
    "application/vnd.databricks.v1+cell": {
     "cellMetadata": {
      "byteLimit": 2048000,
      "rowLimit": 10000
     },
     "inputWidgets": {},
     "nuid": "5092592f-4931-48bf-8a1d-e709749446e4",
     "showTitle": false,
     "tableResultSettingsMap": {},
     "title": ""
    }
   },
   "outputs": [
    {
     "output_type": "stream",
     "name": "stdout",
     "output_type": "stream",
     "text": [
      "dad\n"
     ]
    }
   ],
   "source": [
    "# multi class inheritanc m agar func name conflict h to jo class pehle specify hogi uska method consider hoga\n",
    "class mom():\n",
    "    def c1(self):\n",
    "        print(\"mom\")\n",
    "class dad():\n",
    "    def c1(self):\n",
    "        print(\"dad\")\n",
    "# MRO\n",
    "# TypeError: Cannot create a consistent method resolution\n",
    "class kidoo(dad,mom):\n",
    "    pass\n",
    "\n",
    "kid2 = kidoo()\n",
    "kid2.c1()\n",
    "# kyuki pehle dad class likhi h inhrit krte waqt"
   ]
  },
  {
   "cell_type": "code",
   "execution_count": 0,
   "metadata": {
    "application/vnd.databricks.v1+cell": {
     "cellMetadata": {
      "byteLimit": 2048000,
      "rowLimit": 10000
     },
     "inputWidgets": {},
     "nuid": "12509e56-9ff0-4bab-8083-42f63ca49b72",
     "showTitle": false,
     "tableResultSettingsMap": {},
     "title": ""
    }
   },
   "outputs": [
    {
     "output_type": "stream",
     "name": "stdout",
     "output_type": "stream",
     "text": [
      "Out[84]: 5"
     ]
    }
   ],
   "source": [
    "# Polymorphism:\n",
    "# behaving/adpting different according to the situation\n",
    "\n",
    "def test(a,b):\n",
    "    return a+b\n",
    "\n",
    "test(2,3)"
   ]
  },
  {
   "cell_type": "code",
   "execution_count": 0,
   "metadata": {
    "application/vnd.databricks.v1+cell": {
     "cellMetadata": {
      "byteLimit": 2048000,
      "rowLimit": 10000
     },
     "inputWidgets": {},
     "nuid": "31c3a5a3-a0b3-4131-84a5-ec5b299b8e6c",
     "showTitle": false,
     "tableResultSettingsMap": {},
     "title": ""
    }
   },
   "outputs": [
    {
     "output_type": "stream",
     "name": "stdout",
     "output_type": "stream",
     "text": [
      "Out[85]: 'klo'"
     ]
    }
   ],
   "source": [
    "test('k','lo')"
   ]
  },
  {
   "cell_type": "code",
   "execution_count": 0,
   "metadata": {
    "application/vnd.databricks.v1+cell": {
     "cellMetadata": {
      "byteLimit": 2048000,
      "rowLimit": 10000
     },
     "inputWidgets": {},
     "nuid": "9c8fb1f8-f583-40e8-9456-dd6c2ac661d0",
     "showTitle": false,
     "tableResultSettingsMap": {},
     "title": ""
    }
   },
   "outputs": [],
   "source": [
    "# class ca1, ca2 both have func() available\n",
    "class ca1:\n",
    "    def func(self):\n",
    "        print(\"ca1: func called\")\n",
    "\n",
    "class ca2:\n",
    "    def func(self):\n",
    "        print(\"ca2: func called\")\n",
    "\n",
    "# External function\n",
    "def ext_func(x):\n",
    "    x.func()\n",
    "# func() Method same h, lekin jis class k object ko pass kr rhe h uske taraf behave kr rha h\n",
    "ca1 = ca1()\n",
    "ca2 = ca2()"
   ]
  },
  {
   "cell_type": "code",
   "execution_count": 0,
   "metadata": {
    "application/vnd.databricks.v1+cell": {
     "cellMetadata": {
      "byteLimit": 2048000,
      "rowLimit": 10000
     },
     "inputWidgets": {},
     "nuid": "948ade98-6f6c-4cdb-9992-c7c8c3b1ac9f",
     "showTitle": false,
     "tableResultSettingsMap": {},
     "title": ""
    }
   },
   "outputs": [
    {
     "output_type": "stream",
     "name": "stdout",
     "output_type": "stream",
     "text": [
      "ca1: func called\n"
     ]
    }
   ],
   "source": [
    "ext_func(ca1)"
   ]
  },
  {
   "cell_type": "code",
   "execution_count": 0,
   "metadata": {
    "application/vnd.databricks.v1+cell": {
     "cellMetadata": {
      "byteLimit": 2048000,
      "rowLimit": 10000
     },
     "inputWidgets": {},
     "nuid": "c3e2f844-449e-4808-a223-a10fdc5efb26",
     "showTitle": false,
     "tableResultSettingsMap": {},
     "title": ""
    }
   },
   "outputs": [
    {
     "output_type": "stream",
     "name": "stdout",
     "output_type": "stream",
     "text": [
      "ca2: func called\n"
     ]
    }
   ],
   "source": [
    "ext_func(ca2)"
   ]
  },
  {
   "cell_type": "code",
   "execution_count": 0,
   "metadata": {
    "application/vnd.databricks.v1+cell": {
     "cellMetadata": {
      "byteLimit": 2048000,
      "rowLimit": 10000
     },
     "inputWidgets": {},
     "nuid": "07219966-7863-4660-a3a8-c0382a9de622",
     "showTitle": false,
     "tableResultSettingsMap": {},
     "title": ""
    }
   },
   "outputs": [],
   "source": [
    "# public, protected, private \n",
    "# public: within same class & outside class it is accessible. By default, everything is public.\n",
    "# protected: \n",
    "# private: sirf class k andar accessible h, not ouside.inherit nhi ho sakte\n",
    "# pr pr pr...\n",
    "# python m public , protected, private is just a notation\n",
    "\n",
    "# to make a protected variable add _ at the beginning of the name\n",
    "# to make a private variabe add __ at the beginning  of the name\n",
    "# to access private variable notation is : _classname<private>: _master3__place\n",
    "class master3():\n",
    "\n",
    "    def __init__(self, name, place, animal, thing):\n",
    "        # protected variable: _name\n",
    "        self._name = name\n",
    "        # private variable: __place\n",
    "        self.__place = place\n",
    "        self.animal = animal\n",
    "        self.thing = thing\n",
    "    \n",
    "    def writer(self):\n",
    "        print(\"name: \", self._name , \" place: \" , self.__place ,\" animal: \", self.animal, \" thing:\", self.thing )\n",
    "\n",
    "mas3 = master3('matko','darbaar sahib amritsar', 'horses', 'watch')"
   ]
  },
  {
   "cell_type": "code",
   "execution_count": 0,
   "metadata": {
    "application/vnd.databricks.v1+cell": {
     "cellMetadata": {
      "byteLimit": 2048000,
      "rowLimit": 10000
     },
     "inputWidgets": {},
     "nuid": "73f2fa31-e718-48ae-9e0b-55c4c2b7e0cf",
     "showTitle": false,
     "tableResultSettingsMap": {},
     "title": ""
    }
   },
   "outputs": [
    {
     "output_type": "stream",
     "name": "stdout",
     "output_type": "stream",
     "text": [
      "Out[38]: 'matko'"
     ]
    }
   ],
   "source": [
    "# accessing protected variable\n",
    "mas3._name"
   ]
  },
  {
   "cell_type": "code",
   "execution_count": 0,
   "metadata": {
    "application/vnd.databricks.v1+cell": {
     "cellMetadata": {
      "byteLimit": 2048000,
      "rowLimit": 10000
     },
     "inputWidgets": {},
     "nuid": "7b88ad96-811c-46a6-8fa8-85fb25016498",
     "showTitle": false,
     "tableResultSettingsMap": {},
     "title": ""
    }
   },
   "outputs": [
    {
     "output_type": "stream",
     "name": "stdout",
     "output_type": "stream",
     "text": [
      "Out[39]: 'darbaar sahib amritsar'"
     ]
    }
   ],
   "source": [
    "mas3._master3__place"
   ]
  },
  {
   "cell_type": "code",
   "execution_count": 0,
   "metadata": {
    "application/vnd.databricks.v1+cell": {
     "cellMetadata": {
      "byteLimit": 2048000,
      "rowLimit": 10000
     },
     "inputWidgets": {},
     "nuid": "bc99213f-f474-458a-b7c8-4c0ac50d587a",
     "showTitle": false,
     "tableResultSettingsMap": {},
     "title": ""
    }
   },
   "outputs": [],
   "source": [
    "# Abstraction\n",
    "# from package import class , method\n",
    "from abc import ABC, abstractmethod, abstractproperty"
   ]
  },
  {
   "cell_type": "code",
   "execution_count": 0,
   "metadata": {
    "application/vnd.databricks.v1+cell": {
     "cellMetadata": {
      "byteLimit": 2048000,
      "rowLimit": 10000
     },
     "inputWidgets": {},
     "nuid": "00aeb528-b232-4313-85fd-7c1f78fa988f",
     "showTitle": false,
     "tableResultSettingsMap": {},
     "title": ""
    }
   },
   "outputs": [],
   "source": [
    "# @abstractproperty: keyword required to make a func abstract\n",
    "class skeleton:\n",
    "    @abstractproperty\n",
    "    def limbs(self):\n",
    "        pass    \n",
    "    @abstractproperty\n",
    "    def muscles(self):\n",
    "        pass\n",
    "    @abstractproperty\n",
    "    def joints(self):\n",
    "        pass"
   ]
  },
  {
   "cell_type": "code",
   "execution_count": 0,
   "metadata": {
    "application/vnd.databricks.v1+cell": {
     "cellMetadata": {
      "byteLimit": 2048000,
      "rowLimit": 10000
     },
     "inputWidgets": {},
     "nuid": "0e256b9e-90d8-4ca6-9ac8-79170572c32c",
     "showTitle": false,
     "tableResultSettingsMap": {},
     "title": ""
    }
   },
   "outputs": [],
   "source": [
    "# the inheriting class needs to add of the abstract methods, even though they are not defining the logic\n",
    "class body(skeleton):\n",
    "    @property\n",
    "    def muscles(self):\n",
    "        print(\" protein khaa, weight uthaa\")\n",
    "    @property\n",
    "    def joints(self):\n",
    "        print(\"movement kr, daurd laga\")\n",
    "    @property\n",
    "    def limbs(self):\n",
    "        pass\n",
    "\n",
    "boddy_shoddy = body()\n"
   ]
  },
  {
   "cell_type": "code",
   "execution_count": 0,
   "metadata": {
    "application/vnd.databricks.v1+cell": {
     "cellMetadata": {
      "byteLimit": 2048000,
      "rowLimit": 10000
     },
     "inputWidgets": {},
     "nuid": "cb554174-f613-4922-b3c8-2b919b8384c1",
     "showTitle": false,
     "tableResultSettingsMap": {},
     "title": ""
    }
   },
   "outputs": [
    {
     "output_type": "stream",
     "name": "stdout",
     "output_type": "stream",
     "text": [
      "movement kr, daurd laga\n"
     ]
    },
    {
     "output_type": "display_data",
     "data": {
      "text/plain": [
       "\u001B[0;31m---------------------------------------------------------------------------\u001B[0m\n",
       "\u001B[0;31mTypeError\u001B[0m                                 Traceback (most recent call last)\n",
       "File \u001B[0;32m<command-3602306477213901>:1\u001B[0m\n",
       "\u001B[0;32m----> 1\u001B[0m \u001B[43mboddy_shoddy\u001B[49m\u001B[38;5;241;43m.\u001B[39;49m\u001B[43mjoints\u001B[49m\u001B[43m(\u001B[49m\u001B[43m)\u001B[49m\n",
       "\n",
       "\u001B[0;31mTypeError\u001B[0m: 'NoneType' object is not callable"
      ]
     },
     "metadata": {
      "application/vnd.databricks.v1+output": {
       "arguments": {},
       "data": "\u001B[0;31m---------------------------------------------------------------------------\u001B[0m\n\u001B[0;31mTypeError\u001B[0m                                 Traceback (most recent call last)\nFile \u001B[0;32m<command-3602306477213901>:1\u001B[0m\n\u001B[0;32m----> 1\u001B[0m \u001B[43mboddy_shoddy\u001B[49m\u001B[38;5;241;43m.\u001B[39;49m\u001B[43mjoints\u001B[49m\u001B[43m(\u001B[49m\u001B[43m)\u001B[49m\n\n\u001B[0;31mTypeError\u001B[0m: 'NoneType' object is not callable",
       "errorSummary": "<span class='ansi-red-fg'>TypeError</span>: 'NoneType' object is not callable",
       "errorTraceType": "ansi",
       "metadata": {},
       "type": "ipynbError"
      }
     },
     "output_type": "display_data"
    }
   ],
   "source": [
    "boddy_shoddy.joints()\n",
    "\n",
    "# teacher said this is fine: TypeError: 'NoneType' object is not callable\n",
    "# but i don't know how and why"
   ]
  },
  {
   "cell_type": "code",
   "execution_count": 0,
   "metadata": {
    "application/vnd.databricks.v1+cell": {
     "cellMetadata": {
      "byteLimit": 2048000,
      "rowLimit": 10000
     },
     "inputWidgets": {},
     "nuid": "10d71020-c0b2-4d3e-931f-c02549a7c887",
     "showTitle": false,
     "tableResultSettingsMap": {},
     "title": ""
    }
   },
   "outputs": [],
   "source": [
    "# abstraction use case:\n",
    "# manager created a skeleton class with all the emppty methods and right naming convention\n",
    "# then he asks people to implement it. may be give 2 method to developer A and rst 2 methods to developer B\n",
    "# can read this: https://monasphere.fr/soew/what-is-none-type-in-python-and-why-you-should-care\n",
    "# note sure if helpful"
   ]
  },
  {
   "cell_type": "code",
   "execution_count": 0,
   "metadata": {
    "application/vnd.databricks.v1+cell": {
     "cellMetadata": {},
     "inputWidgets": {},
     "nuid": "3175664d-3079-4a83-b834-7e30002d11f9",
     "showTitle": false,
     "tableResultSettingsMap": {},
     "title": ""
    }
   },
   "outputs": [],
   "source": []
  }
 ],
 "metadata": {
  "application/vnd.databricks.v1+notebook": {
   "computePreferences": null,
   "dashboards": [],
   "environmentMetadata": {
    "base_environment": "",
    "environment_version": "1"
   },
   "inputWidgetPreferences": null,
   "language": "python",
   "notebookMetadata": {
    "pythonIndentUnit": 4
   },
   "notebookName": "OOPS: inheritance, polymorphism, abstraction",
   "widgets": {}
  }
 },
 "nbformat": 4,
 "nbformat_minor": 0
}
